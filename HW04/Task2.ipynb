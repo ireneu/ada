{
 "cells": [
  {
   "cell_type": "markdown",
   "metadata": {},
   "source": [
    "# Exercise 2 Unsupervised Learning"
   ]
  },
  {
   "cell_type": "code",
   "execution_count": 2,
   "metadata": {
    "collapsed": true
   },
   "outputs": [],
   "source": [
    "import numpy as np\n",
    "import pandas as pd\n",
    "import sklearn\n",
    "import matplotlib.pyplot as plt\n",
    "%matplotlib inline\n",
    "\n",
    "from sklearn.cluster import KMeans\n",
    "from sklearn.metrics import silhouette_score"
   ]
  },
  {
   "cell_type": "markdown",
   "metadata": {},
   "source": [
    "Our working set is the same as previously, and the pre-processing is similar"
   ]
  },
  {
   "cell_type": "code",
   "execution_count": 3,
   "metadata": {
    "collapsed": false
   },
   "outputs": [
    {
     "ename": "OSError",
     "evalue": "File b'CrowdstormingDataJuly1st.csv' does not exist",
     "output_type": "error",
     "traceback": [
      "\u001b[1;31m---------------------------------------------------------------------------\u001b[0m",
      "\u001b[1;31mOSError\u001b[0m                                   Traceback (most recent call last)",
      "\u001b[1;32m<ipython-input-3-dd8b43bad19b>\u001b[0m in \u001b[0;36m<module>\u001b[1;34m()\u001b[0m\n\u001b[1;32m----> 1\u001b[1;33m \u001b[0mdf\u001b[0m \u001b[1;33m=\u001b[0m \u001b[0mpd\u001b[0m\u001b[1;33m.\u001b[0m\u001b[0mread_csv\u001b[0m\u001b[1;33m(\u001b[0m\u001b[1;34m'CrowdstormingDataJuly1st.csv'\u001b[0m\u001b[1;33m,\u001b[0m \u001b[0mindex_col\u001b[0m\u001b[1;33m=\u001b[0m\u001b[1;34m'playerShort'\u001b[0m\u001b[1;33m)\u001b[0m\u001b[1;33m\u001b[0m\u001b[0m\n\u001b[0m\u001b[0;32m      2\u001b[0m \u001b[0mdf\u001b[0m\u001b[1;33m.\u001b[0m\u001b[0msample\u001b[0m\u001b[1;33m(\u001b[0m\u001b[1;36m10\u001b[0m\u001b[1;33m)\u001b[0m\u001b[1;33m\u001b[0m\u001b[0m\n",
      "\u001b[1;32mC:\\Program Files\\Anaconda3\\lib\\site-packages\\pandas\\io\\parsers.py\u001b[0m in \u001b[0;36mparser_f\u001b[1;34m(filepath_or_buffer, sep, delimiter, header, names, index_col, usecols, squeeze, prefix, mangle_dupe_cols, dtype, engine, converters, true_values, false_values, skipinitialspace, skiprows, skipfooter, nrows, na_values, keep_default_na, na_filter, verbose, skip_blank_lines, parse_dates, infer_datetime_format, keep_date_col, date_parser, dayfirst, iterator, chunksize, compression, thousands, decimal, lineterminator, quotechar, quoting, escapechar, comment, encoding, dialect, tupleize_cols, error_bad_lines, warn_bad_lines, skip_footer, doublequote, delim_whitespace, as_recarray, compact_ints, use_unsigned, low_memory, buffer_lines, memory_map, float_precision)\u001b[0m\n\u001b[0;32m    560\u001b[0m                     skip_blank_lines=skip_blank_lines)\n\u001b[0;32m    561\u001b[0m \u001b[1;33m\u001b[0m\u001b[0m\n\u001b[1;32m--> 562\u001b[1;33m         \u001b[1;32mreturn\u001b[0m \u001b[0m_read\u001b[0m\u001b[1;33m(\u001b[0m\u001b[0mfilepath_or_buffer\u001b[0m\u001b[1;33m,\u001b[0m \u001b[0mkwds\u001b[0m\u001b[1;33m)\u001b[0m\u001b[1;33m\u001b[0m\u001b[0m\n\u001b[0m\u001b[0;32m    563\u001b[0m \u001b[1;33m\u001b[0m\u001b[0m\n\u001b[0;32m    564\u001b[0m     \u001b[0mparser_f\u001b[0m\u001b[1;33m.\u001b[0m\u001b[0m__name__\u001b[0m \u001b[1;33m=\u001b[0m \u001b[0mname\u001b[0m\u001b[1;33m\u001b[0m\u001b[0m\n",
      "\u001b[1;32mC:\\Program Files\\Anaconda3\\lib\\site-packages\\pandas\\io\\parsers.py\u001b[0m in \u001b[0;36m_read\u001b[1;34m(filepath_or_buffer, kwds)\u001b[0m\n\u001b[0;32m    313\u001b[0m \u001b[1;33m\u001b[0m\u001b[0m\n\u001b[0;32m    314\u001b[0m     \u001b[1;31m# Create the parser.\u001b[0m\u001b[1;33m\u001b[0m\u001b[1;33m\u001b[0m\u001b[0m\n\u001b[1;32m--> 315\u001b[1;33m     \u001b[0mparser\u001b[0m \u001b[1;33m=\u001b[0m \u001b[0mTextFileReader\u001b[0m\u001b[1;33m(\u001b[0m\u001b[0mfilepath_or_buffer\u001b[0m\u001b[1;33m,\u001b[0m \u001b[1;33m**\u001b[0m\u001b[0mkwds\u001b[0m\u001b[1;33m)\u001b[0m\u001b[1;33m\u001b[0m\u001b[0m\n\u001b[0m\u001b[0;32m    316\u001b[0m \u001b[1;33m\u001b[0m\u001b[0m\n\u001b[0;32m    317\u001b[0m     \u001b[1;32mif\u001b[0m \u001b[1;33m(\u001b[0m\u001b[0mnrows\u001b[0m \u001b[1;32mis\u001b[0m \u001b[1;32mnot\u001b[0m \u001b[1;32mNone\u001b[0m\u001b[1;33m)\u001b[0m \u001b[1;32mand\u001b[0m \u001b[1;33m(\u001b[0m\u001b[0mchunksize\u001b[0m \u001b[1;32mis\u001b[0m \u001b[1;32mnot\u001b[0m \u001b[1;32mNone\u001b[0m\u001b[1;33m)\u001b[0m\u001b[1;33m:\u001b[0m\u001b[1;33m\u001b[0m\u001b[0m\n",
      "\u001b[1;32mC:\\Program Files\\Anaconda3\\lib\\site-packages\\pandas\\io\\parsers.py\u001b[0m in \u001b[0;36m__init__\u001b[1;34m(self, f, engine, **kwds)\u001b[0m\n\u001b[0;32m    643\u001b[0m             \u001b[0mself\u001b[0m\u001b[1;33m.\u001b[0m\u001b[0moptions\u001b[0m\u001b[1;33m[\u001b[0m\u001b[1;34m'has_index_names'\u001b[0m\u001b[1;33m]\u001b[0m \u001b[1;33m=\u001b[0m \u001b[0mkwds\u001b[0m\u001b[1;33m[\u001b[0m\u001b[1;34m'has_index_names'\u001b[0m\u001b[1;33m]\u001b[0m\u001b[1;33m\u001b[0m\u001b[0m\n\u001b[0;32m    644\u001b[0m \u001b[1;33m\u001b[0m\u001b[0m\n\u001b[1;32m--> 645\u001b[1;33m         \u001b[0mself\u001b[0m\u001b[1;33m.\u001b[0m\u001b[0m_make_engine\u001b[0m\u001b[1;33m(\u001b[0m\u001b[0mself\u001b[0m\u001b[1;33m.\u001b[0m\u001b[0mengine\u001b[0m\u001b[1;33m)\u001b[0m\u001b[1;33m\u001b[0m\u001b[0m\n\u001b[0m\u001b[0;32m    646\u001b[0m \u001b[1;33m\u001b[0m\u001b[0m\n\u001b[0;32m    647\u001b[0m     \u001b[1;32mdef\u001b[0m \u001b[0mclose\u001b[0m\u001b[1;33m(\u001b[0m\u001b[0mself\u001b[0m\u001b[1;33m)\u001b[0m\u001b[1;33m:\u001b[0m\u001b[1;33m\u001b[0m\u001b[0m\n",
      "\u001b[1;32mC:\\Program Files\\Anaconda3\\lib\\site-packages\\pandas\\io\\parsers.py\u001b[0m in \u001b[0;36m_make_engine\u001b[1;34m(self, engine)\u001b[0m\n\u001b[0;32m    797\u001b[0m     \u001b[1;32mdef\u001b[0m \u001b[0m_make_engine\u001b[0m\u001b[1;33m(\u001b[0m\u001b[0mself\u001b[0m\u001b[1;33m,\u001b[0m \u001b[0mengine\u001b[0m\u001b[1;33m=\u001b[0m\u001b[1;34m'c'\u001b[0m\u001b[1;33m)\u001b[0m\u001b[1;33m:\u001b[0m\u001b[1;33m\u001b[0m\u001b[0m\n\u001b[0;32m    798\u001b[0m         \u001b[1;32mif\u001b[0m \u001b[0mengine\u001b[0m \u001b[1;33m==\u001b[0m \u001b[1;34m'c'\u001b[0m\u001b[1;33m:\u001b[0m\u001b[1;33m\u001b[0m\u001b[0m\n\u001b[1;32m--> 799\u001b[1;33m             \u001b[0mself\u001b[0m\u001b[1;33m.\u001b[0m\u001b[0m_engine\u001b[0m \u001b[1;33m=\u001b[0m \u001b[0mCParserWrapper\u001b[0m\u001b[1;33m(\u001b[0m\u001b[0mself\u001b[0m\u001b[1;33m.\u001b[0m\u001b[0mf\u001b[0m\u001b[1;33m,\u001b[0m \u001b[1;33m**\u001b[0m\u001b[0mself\u001b[0m\u001b[1;33m.\u001b[0m\u001b[0moptions\u001b[0m\u001b[1;33m)\u001b[0m\u001b[1;33m\u001b[0m\u001b[0m\n\u001b[0m\u001b[0;32m    800\u001b[0m         \u001b[1;32melse\u001b[0m\u001b[1;33m:\u001b[0m\u001b[1;33m\u001b[0m\u001b[0m\n\u001b[0;32m    801\u001b[0m             \u001b[1;32mif\u001b[0m \u001b[0mengine\u001b[0m \u001b[1;33m==\u001b[0m \u001b[1;34m'python'\u001b[0m\u001b[1;33m:\u001b[0m\u001b[1;33m\u001b[0m\u001b[0m\n",
      "\u001b[1;32mC:\\Program Files\\Anaconda3\\lib\\site-packages\\pandas\\io\\parsers.py\u001b[0m in \u001b[0;36m__init__\u001b[1;34m(self, src, **kwds)\u001b[0m\n\u001b[0;32m   1211\u001b[0m         \u001b[0mkwds\u001b[0m\u001b[1;33m[\u001b[0m\u001b[1;34m'allow_leading_cols'\u001b[0m\u001b[1;33m]\u001b[0m \u001b[1;33m=\u001b[0m \u001b[0mself\u001b[0m\u001b[1;33m.\u001b[0m\u001b[0mindex_col\u001b[0m \u001b[1;32mis\u001b[0m \u001b[1;32mnot\u001b[0m \u001b[1;32mFalse\u001b[0m\u001b[1;33m\u001b[0m\u001b[0m\n\u001b[0;32m   1212\u001b[0m \u001b[1;33m\u001b[0m\u001b[0m\n\u001b[1;32m-> 1213\u001b[1;33m         \u001b[0mself\u001b[0m\u001b[1;33m.\u001b[0m\u001b[0m_reader\u001b[0m \u001b[1;33m=\u001b[0m \u001b[0m_parser\u001b[0m\u001b[1;33m.\u001b[0m\u001b[0mTextReader\u001b[0m\u001b[1;33m(\u001b[0m\u001b[0msrc\u001b[0m\u001b[1;33m,\u001b[0m \u001b[1;33m**\u001b[0m\u001b[0mkwds\u001b[0m\u001b[1;33m)\u001b[0m\u001b[1;33m\u001b[0m\u001b[0m\n\u001b[0m\u001b[0;32m   1214\u001b[0m \u001b[1;33m\u001b[0m\u001b[0m\n\u001b[0;32m   1215\u001b[0m         \u001b[1;31m# XXX\u001b[0m\u001b[1;33m\u001b[0m\u001b[1;33m\u001b[0m\u001b[0m\n",
      "\u001b[1;32mpandas\\parser.pyx\u001b[0m in \u001b[0;36mpandas.parser.TextReader.__cinit__ (pandas\\parser.c:3427)\u001b[1;34m()\u001b[0m\n",
      "\u001b[1;32mpandas\\parser.pyx\u001b[0m in \u001b[0;36mpandas.parser.TextReader._setup_parser_source (pandas\\parser.c:6861)\u001b[1;34m()\u001b[0m\n",
      "\u001b[1;31mOSError\u001b[0m: File b'CrowdstormingDataJuly1st.csv' does not exist"
     ]
    }
   ],
   "source": [
    "df = pd.read_csv('CrowdstormingDataJuly1st.csv', index_col='playerShort')\n",
    "df.sample(10)"
   ]
  },
  {
   "cell_type": "markdown",
   "metadata": {},
   "source": [
    "We can only work with the soccer players that have been rated by the 2 raters and we define the 'target' to be the average of the raters' ratings (that will not be part of the features)"
   ]
  },
  {
   "cell_type": "code",
   "execution_count": null,
   "metadata": {
    "collapsed": false
   },
   "outputs": [],
   "source": [
    "# Remove rows with no rating\n",
    "df = df.dropna(subset=['rater1', 'rater2'])\n",
    "df['target'] = (df.rater1 + df.rater2)/2"
   ]
  },
  {
   "cell_type": "code",
   "execution_count": null,
   "metadata": {
    "collapsed": true
   },
   "outputs": [],
   "source": [
    "sdf = df.reset_index().groupby('playerShort')"
   ]
  },
  {
   "cell_type": "code",
   "execution_count": null,
   "metadata": {
    "collapsed": false
   },
   "outputs": [],
   "source": [
    "#functions to apply for aggregation\n",
    "feature_function_mapper={\n",
    "    'height': np.average,\n",
    "    'weight': np.average,\n",
    "    'victories': np.sum,\n",
    "    'ties': np.sum,\n",
    "    'defeats': np.sum,\n",
    "    'goals': np.sum,\n",
    "    'yellowCards': np.sum,\n",
    "    'yellowReds': np.sum,\n",
    "    'redCards': np.sum,\n",
    "    'target': np.average,\n",
    "    'meanIAT': np.average,\n",
    "    'nIAT': np.average,\n",
    "    'seIAT': lambda x: np.sqrt(np.average(np.square(x))),\n",
    "    'meanExp': np.average,\n",
    "    'nExp': np.average,\n",
    "    'seExp': lambda x: np.sqrt(np.average(np.square(x))),\n",
    "}\n",
    "\n",
    "sdf_agg=sdf.agg(feature_function_mapper)\n",
    "sdf_agg.sample(10)"
   ]
  },
  {
   "cell_type": "markdown",
   "metadata": {},
   "source": [
    "Now that we have our set cleaned, let's have a \"blind\" clustering technique with all features"
   ]
  },
  {
   "cell_type": "code",
   "execution_count": null,
   "metadata": {
    "collapsed": false
   },
   "outputs": [],
   "source": [
    "features=['redCards', 'weight', 'meanExp', 'nExp', 'defeats', 'yellowCards', 'seExp', 'victories', 'seIAT', 'height', 'nIAT', 'goals', 'ties']\n",
    "X_unsup=sdf_agg[features]\n",
    "\n",
    "#Clustering process cannot be done with NaN values\n",
    "X_unsup.fillna(X_unsup.mean(axis=0), inplace=True).head()"
   ]
  },
  {
   "cell_type": "markdown",
   "metadata": {},
   "source": [
    "Let's use KMeans as clustering algorithm, with 2 clusters"
   ]
  },
  {
   "cell_type": "code",
   "execution_count": null,
   "metadata": {
    "collapsed": false
   },
   "outputs": [],
   "source": [
    "km=KMeans(n_clusters=2).fit(X_unsup)\n",
    "km.predict(X_unsup)"
   ]
  },
  {
   "cell_type": "code",
   "execution_count": null,
   "metadata": {
    "collapsed": false
   },
   "outputs": [],
   "source": [
    "print('Silhouette score: {}'.format(silhouette_score(X_unsup, km.labels_, metric='euclidean')))"
   ]
  },
  {
   "cell_type": "markdown",
   "metadata": {},
   "source": [
    "The silhouette score is pretty good but how good is the clustering compared to the predicted target?\n",
    "We cannot know in advance what cluster corresponds to the white/black skin colour, but there should be a cluster K with target values 0 to 0.5 and the other 0.5 to 1."
   ]
  },
  {
   "cell_type": "code",
   "execution_count": null,
   "metadata": {
    "collapsed": false
   },
   "outputs": [],
   "source": [
    "X_unsup['K']=km.labels_\n",
    "X_unsup['target']=sdf_agg['target']\n",
    "X_unsup.head()"
   ]
  },
  {
   "cell_type": "code",
   "execution_count": null,
   "metadata": {
    "collapsed": false
   },
   "outputs": [],
   "source": [
    "#X_unsup.target <= 0.5 : white skin\n",
    "df1 = X_unsup[X_unsup.target <= 0.5]\n",
    "df2 = df1[df1.K == 0]\n",
    "white_in_clust0 = len(df2)\n",
    "clust0_size = len(X_unsup[X_unsup.K == 0])\n",
    "white_in_clust0 / clust0_size"
   ]
  },
  {
   "cell_type": "code",
   "execution_count": null,
   "metadata": {
    "collapsed": false
   },
   "outputs": [],
   "source": [
    "#X_unsup.target <= 0.5 : white skin\n",
    "df3 = X_unsup[X_unsup.target <= 0.5]\n",
    "df4 = df3[df3.K == 1]\n",
    "white_in_clust1 = len(df4)\n",
    "clust1_size = len(X_unsup[X_unsup.K == 1])\n",
    "white_in_clust1 / clust1_size"
   ]
  },
  {
   "cell_type": "markdown",
   "metadata": {},
   "source": [
    "Perfect results should be 0% in one cluster and 100% in ther other, so we can conclude that our first result is not good\n",
    "\n",
    "Let's try to be a bit more clever and keep only the features related to race:"
   ]
  },
  {
   "cell_type": "code",
   "execution_count": null,
   "metadata": {
    "collapsed": false
   },
   "outputs": [],
   "source": [
    "features = ['meanExp', 'meanIAT', 'nIAT', 'nExp', 'seExp', 'seIAT']\n",
    "X_unsup = sdf_agg[features]\n",
    "X_unsup.sample(10)"
   ]
  },
  {
   "cell_type": "code",
   "execution_count": null,
   "metadata": {
    "collapsed": false
   },
   "outputs": [],
   "source": [
    "X_unsup.fillna(X_unsup.mean(axis=0), inplace=True).head()"
   ]
  },
  {
   "cell_type": "code",
   "execution_count": null,
   "metadata": {
    "collapsed": false
   },
   "outputs": [],
   "source": [
    "km = KMeans(n_clusters=2).fit(X_unsup)\n",
    "km.predict(X_unsup)\n",
    "print('Silhouette score: {}'.format(silhouette_score(X_unsup, km.labels_, metric='euclidean')))\n",
    "X_unsup['K']=km.labels_\n",
    "X_unsup['target']=sdf_agg['target']"
   ]
  },
  {
   "cell_type": "code",
   "execution_count": null,
   "metadata": {
    "collapsed": false
   },
   "outputs": [],
   "source": [
    "X_unsup.head(15)"
   ]
  },
  {
   "cell_type": "code",
   "execution_count": null,
   "metadata": {
    "collapsed": false
   },
   "outputs": [],
   "source": [
    "df1 = X_unsup[X_unsup.target <= 0.5]\n",
    "df2 = df1[df1.K == 0]\n",
    "white_in_clust0 = len(df2)\n",
    "clust0_size = len(X_unsup[X_unsup.K == 0])\n",
    "print('Proportion of white players in cluster 0 : {}'.format(white_in_clust0 / clust0_size))\n",
    "\n",
    "\n",
    "df3 = X_unsup[X_unsup.target <= 0.5]\n",
    "df4 = df3[df3.K == 1]\n",
    "white_in_clust1 = len(df4)\n",
    "clust1_size = len(X_unsup[X_unsup.K == 1])\n",
    "print('Proportion of white players in cluster 1 : {}'.format(white_in_clust1 / clust1_size))\n",
    "print('Clustering score : {}'.format(np.abs(white_in_clust0 / clust0_size - white_in_clust1 / clust1_size)))"
   ]
  },
  {
   "cell_type": "markdown",
   "metadata": {},
   "source": [
    "This is not optimal either... We want now to determine the feature to drop by algorithm"
   ]
  },
  {
   "cell_type": "markdown",
   "metadata": {},
   "source": [
    "# Trying all possible combinations of features"
   ]
  },
  {
   "cell_type": "code",
   "execution_count": null,
   "metadata": {
    "collapsed": true
   },
   "outputs": [],
   "source": [
    "'''\n",
    "    Computes the clustering score, return a value between 0 and 1.\n",
    "    1 means that all samples were assigned to the correct cluster,\n",
    "    0 the opposite.\n",
    "    i.e all white skin players are in the same cluster and \n",
    "    all black skin players are in the same cluster, which is different from the \n",
    "    one with the white players \n",
    "'''\n",
    "def compute_cluster_score(table):\n",
    "    #table.target > 0.5 : black skin\n",
    "    df1=table[table.target > 0.5]\n",
    "    df2=df1[df1.K == 0]\n",
    "    black_in_clust0 = len(df2)\n",
    "    clust0_size=len(table[table.K == 0])\n",
    "    prop0 =black_in_clust0 / clust0_size\n",
    "    \n",
    "    df3=table[table.target > 0.5]\n",
    "    df4=df3[df3.K == 1]\n",
    "    black_in_clust1=len(df4)\n",
    "    clust1_size=len(table[table.K == 1])\n",
    "    prop1=black_in_clust1 / clust1_size\n",
    "    \n",
    "    return np.abs(prop0- prop1)"
   ]
  },
  {
   "cell_type": "code",
   "execution_count": null,
   "metadata": {
    "collapsed": true
   },
   "outputs": [],
   "source": [
    "def compute_kmeans(table):\n",
    "    km=KMeans(n_clusters=2).fit(table)\n",
    "    predictions = km.predict(table)\n",
    "    table['K']=km.labels_\n",
    "    score=silhouette_score(table, predictions, metric='euclidean')\n",
    "    prop=compute_cluster_score(table)\n",
    "    \n",
    "    return score, prop"
   ]
  },
  {
   "cell_type": "markdown",
   "metadata": {},
   "source": [
    "We want to find all possible combinations of the features, from 1 to 15 features"
   ]
  },
  {
   "cell_type": "code",
   "execution_count": null,
   "metadata": {
    "collapsed": false
   },
   "outputs": [],
   "source": [
    "#found on http://python.jpvweb.com/mesrecettespython/doku.php?id=combinaisons\n",
    "def combinliste(seq, k):\n",
    "    p = []\n",
    "    i, imax = 0, 2**len(seq)-1\n",
    "    while i<=imax:\n",
    "        s = []\n",
    "        j, jmax = 0, len(seq)-1\n",
    "        while j<=jmax:\n",
    "            if (i>>j)&1==1:\n",
    "                s.append(seq[j])\n",
    "            j += 1\n",
    "        if len(s)==k:\n",
    "            p.append(s)\n",
    "        i += 1 \n",
    "    return p"
   ]
  },
  {
   "cell_type": "code",
   "execution_count": null,
   "metadata": {
    "collapsed": false
   },
   "outputs": [],
   "source": [
    "def generate_feature_combinations(feats):\n",
    "    combinations = []\n",
    "    for i in range(len(feats)):\n",
    "        combinations.append(combinliste(feats, i))\n",
    "        \n",
    "    return combinations"
   ]
  },
  {
   "cell_type": "markdown",
   "metadata": {},
   "source": [
    "Main algorithm : computes all scores of combinations and outputs them in a dataframe"
   ]
  },
  {
   "cell_type": "code",
   "execution_count": null,
   "metadata": {
    "collapsed": false
   },
   "outputs": [],
   "source": [
    "def compute_all_combinations(combinations, table) :\n",
    "    X_comb = table.copy()\n",
    "    X_comb.fillna(X_comb.mean(axis=0), inplace=True)\n",
    "    silhouettes =[]\n",
    "    clust_scores = []\n",
    "    features = []\n",
    "    for i in range(len(combinations)):\n",
    "        for j in range(len(combinations[i])):\n",
    "            X_temp = X_comb.drop(combinations[i][j], axis=1)\n",
    "            silhouette, clustering_score = compute_kmeans(X_temp)\n",
    "            silhouettes.append(silhouette)\n",
    "            clust_scores.append(clustering_score)\n",
    "            features.append(combinations[i][j]) \n",
    "            \n",
    "    kmean_stats = pd.DataFrame({'Silhouette': silhouettes,\n",
    "                        'Clustering_scores' : clust_scores,\n",
    "                        'Dropped Features' :features})\n",
    "    kmean_stats.set_index('Clustering_scores', inplace=True)\n",
    "    kmean_stats.sort_index(ascending=False, inplace=True)\n",
    "    \n",
    "    return kmean_stats"
   ]
  },
  {
   "cell_type": "markdown",
   "metadata": {},
   "source": [
    "From all the available features, we choose to drop some features that we judged that have nothing to do with the skin colour to have a lighter computation process. \n",
    "So let's find the ones that maximize the score when removed."
   ]
  },
  {
   "cell_type": "code",
   "execution_count": null,
   "metadata": {
    "collapsed": false
   },
   "outputs": [],
   "source": [
    "drop_feats = ['goals','ties','height','victories','weight','defeats']\n",
    "all_combinations = generate_feature_combinations(drop_feats)\n",
    "\n",
    "result = compute_all_combinations(all_combinations, sdf_agg)"
   ]
  },
  {
   "cell_type": "code",
   "execution_count": null,
   "metadata": {
    "collapsed": false
   },
   "outputs": [],
   "source": [
    "result.head(10)"
   ]
  },
  {
   "cell_type": "markdown",
   "metadata": {},
   "source": [
    "Let's the find the best combination of features!"
   ]
  },
  {
   "cell_type": "code",
   "execution_count": null,
   "metadata": {
    "collapsed": false
   },
   "outputs": [],
   "source": [
    "#The features we want to iteratively remove are now the following:\n",
    "drop_feats = ['nIAT','meanExp','yellowCards','redCards','seExp','meanIAT','seIAT','nExp','yellowReds']\n",
    "all_combinations = generate_feature_combinations(drop_feats)"
   ]
  },
  {
   "cell_type": "code",
   "execution_count": null,
   "metadata": {
    "collapsed": false
   },
   "outputs": [],
   "source": [
    "noise_generating_features=result.max()['Dropped Features']\n",
    "noiseless_table=sdf_agg.copy()\n",
    "noiseless_table.drop(noise_generating_features, inplace=True, axis =1)\n",
    "noiseless_table.sample(10)"
   ]
  },
  {
   "cell_type": "markdown",
   "metadata": {},
   "source": [
    "We found the feature(s) to drop, now we try dropping other features with first removing the ones we just found."
   ]
  },
  {
   "cell_type": "code",
   "execution_count": null,
   "metadata": {
    "collapsed": false
   },
   "outputs": [],
   "source": [
    "result1=compute_all_combinations(all_combinations, noiseless_table)"
   ]
  },
  {
   "cell_type": "code",
   "execution_count": null,
   "metadata": {
    "collapsed": false
   },
   "outputs": [],
   "source": [
    "result1.head(10)"
   ]
  },
  {
   "cell_type": "code",
   "execution_count": null,
   "metadata": {
    "collapsed": false
   },
   "outputs": [],
   "source": [
    "best_dropped_features=result1.iloc[0]['Dropped Features']\n",
    "best_features=set(drop_feats) - set(best_dropped_features)\n",
    "print('Best configuration of features {}'.format(best_features))\n",
    "final_result=result1.reset_index()\n",
    "best_clustering_score=final_result.iloc[0]['Clustering_scores']\n",
    "best_silhouette_score=final_result.iloc[0]['Silhouette']\n",
    "print('Best clustering score : {}, best silhouette score : {}'.format(best_clustering_score, best_silhouette_score))"
   ]
  },
  {
   "cell_type": "markdown",
   "metadata": {
    "collapsed": true
   },
   "source": [
    "As a conclusion, we found an optimal configuration of features with high silhouette score, however the cluster score is quite low.\n",
    "We can then argue that the results are not very good and ask ourselves if the provided features were the best to assess the players' skin colours."
   ]
  }
 ],
 "metadata": {
  "anaconda-cloud": {},
  "kernelspec": {
   "display_name": "Python [Root]",
   "language": "python",
   "name": "Python [Root]"
  },
  "language_info": {
   "codemirror_mode": {
    "name": "ipython",
    "version": 3
   },
   "file_extension": ".py",
   "mimetype": "text/x-python",
   "name": "python",
   "nbconvert_exporter": "python",
   "pygments_lexer": "ipython3",
   "version": "3.5.2"
  }
 },
 "nbformat": 4,
 "nbformat_minor": 1
}
