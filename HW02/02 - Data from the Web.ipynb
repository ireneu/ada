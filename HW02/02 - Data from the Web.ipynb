{
 "cells": [
  {
   "cell_type": "markdown",
   "metadata": {
    "collapsed": true
   },
   "source": [
    "# 1. HTTP Request with Postman\n",
    "<br>\n",
    "Querrying IS-Academia for \"Informatique, 2007-2008, Bachelor semestre 1\" gives the following parameters on Postman :<br>\n",
    "ww_x_GPS : 71297531<br>\n",
    "ww_i_reportModel : 133685247<br>\n",
    "ww_i_reportModelXsl : 133685270<br>\n",
    "ww_x_UNITE_ACAD : 249847<br>\n",
    "ww_x_PERIODE_ACAD : 978181<br>\n",
    "ww_x_PERIODE_PEDAGO : 249108<br>\n",
    "ww_x_HIVERETE : null<br>\n",
    "\n",
    "\n",
    "So here are the parameters that we are mostly interesting in :<br>\n",
    "ww_x_UNITE_ACAD  <- Informatique<br>\n",
    "ww_x_PERIODE_ACAD  <- 2007 - 2016<br>\n",
    "ww_x_PERIODE_PEDAGO  <- Bachelor semestre 1 and Bachelor semestre 6<br>"
   ]
  },
  {
   "cell_type": "code",
   "execution_count": 3,
   "metadata": {
    "collapsed": true
   },
   "outputs": [],
   "source": [
    "import numpy as np\n",
    "import pandas as pd\n",
    "import requests\n",
    "import seaborn as sns\n",
    "from bs4 import BeautifulSoup\n",
    "\n",
    "sns.set_context('notebook')"
   ]
  },
  {
   "cell_type": "code",
   "execution_count": 4,
   "metadata": {
    "collapsed": false,
    "scrolled": false
   },
   "outputs": [],
   "source": [
    "form_url = \"http://isa.epfl.ch/imoniteur_ISAP/!GEDPUBLICREPORTS.filter\"\n",
    "base_url = 'http://isa.epfl.ch/imoniteur_ISAP/!GEDPUBLICREPORTS.html'\n",
    "get_parameters = {\n",
    "    'ww_i_reportModel': '133685247',  # Report Model for registered students by section and semester\n",
    "    'ww_i_reportModelXsl': '133685270',  # HTML output\n",
    "}\n",
    "r  = requests.get(form_url, get_parameters)\n",
    "soup = BeautifulSoup(r.text, 'html.parser')"
   ]
  },
  {
   "cell_type": "code",
   "execution_count": 5,
   "metadata": {
    "collapsed": false
   },
   "outputs": [
    {
     "name": "stdout",
     "output_type": "stream",
     "text": [
      "Academic unit: {'ww_x_UNITE_ACAD': '249847'} \n",
      "\n",
      "Academic periods: {'2007-2008': '978181', '2009-2010': '978195', '2008-2009': '978187', '2012-2013': '123456101', '2013-2014': '213637754', '2011-2012': '123455150', '2010-2011': '39486325', '2016-2017': '355925344', '2015-2016': '213638028', '2014-2015': '213637922'} \n",
      "\n",
      "Pedagogic period: {'Bachelor semestre 1': '249108', 'Bachelor semestre 6': '942175'}\n"
     ]
    }
   ],
   "source": [
    "# Extract the appropriate parameters from the html\n",
    "academic_unit = {'ww_x_UNITE_ACAD': soup.find('option', string='Informatique')['value']}\n",
    "print('Academic unit:', academic_unit, '\\n')\n",
    "\n",
    "academic_period_select = soup.find('select', attrs={'name': 'ww_x_PERIODE_ACAD'})\n",
    "academic_period_dict = {option.string: option['value']\n",
    "                        for option in academic_period_select\n",
    "                        if option.string is not None}\n",
    "print('Academic periods:', academic_period_dict, '\\n')\n",
    "\n",
    "pedag_period_select = soup.find('select', attrs={'name': 'ww_x_PERIODE_PEDAGO'})\n",
    "searched_pedag_periods = {'Bachelor semestre 1', 'Bachelor semestre 6'}\n",
    "pedag_period = {option.string: option['value']\n",
    "                for option in pedag_period_select\n",
    "                if option.string in searched_pedag_periods}\n",
    "print('Pedagogic period:', pedag_period)"
   ]
  },
  {
   "cell_type": "code",
   "execution_count": 6,
   "metadata": {
    "collapsed": false
   },
   "outputs": [],
   "source": [
    "get_parameters.update(academic_unit)  # Add academic unit to get parameters\n",
    "get_parameters.update({'ww_x_GPS': '-1'})  # This parameters represents the \"Tous\" (\"All\") link returned by the form."
   ]
  },
  {
   "cell_type": "code",
   "execution_count": 7,
   "metadata": {
    "collapsed": false
   },
   "outputs": [],
   "source": [
    "def build_dataframe(pedagogic_period: str) -> pd.DataFrame:\n",
    "    \"\"\"This function takes a list of academic periods (eg: ['2007-2008', '2008-2009', ...])\n",
    "    and a pedagogic period (eg: 'Bachelor semestre 1') and builds a dataframe with all\n",
    "    concerned students.\n",
    "    \"\"\"\n",
    "    df = pd.DataFrame()\n",
    "    for i, academic_period in enumerate(sorted(academic_period_dict.keys())):  # 2007 until 2016\n",
    "        # Request GET parameters\n",
    "        request_params = {**get_parameters,\n",
    "                          'ww_x_PERIODE_ACAD': academic_period_dict.get(academic_period),\n",
    "                          'ww_x_PERIODE_PEDAGO': pedag_period.get(pedagogic_period)}\n",
    "        r = requests.get(base_url, request_params)\n",
    "        temp_df = pd.read_html(r.text, header=1, index_col=10)[0]  # User sciper nº as index\n",
    "        temp_df = temp_df[['Civilité', 'Nom Prénom']]  # Keep relevant columns only\n",
    "        temp_df[pedagogic_period] = i + 2007  # Annotate the corresponding year for the pedagogic period\n",
    "        df = pd.concat([df, temp_df])\n",
    "    return df\n",
    "\n",
    "# Load all CS students that did their first and last bachelor semesters\n",
    "starting = build_dataframe('Bachelor semestre 1')\n",
    "ending = build_dataframe('Bachelor semestre 6')"
   ]
  },
  {
   "cell_type": "code",
   "execution_count": 8,
   "metadata": {
    "collapsed": false
   },
   "outputs": [
    {
     "data": {
      "text/html": [
       "<div>\n",
       "<table border=\"1\" class=\"dataframe\">\n",
       "  <thead>\n",
       "    <tr style=\"text-align: right;\">\n",
       "      <th></th>\n",
       "      <th>Civilité</th>\n",
       "      <th>Nom Prénom</th>\n",
       "      <th>Bachelor semestre 1</th>\n",
       "      <th>Bachelor semestre 6</th>\n",
       "    </tr>\n",
       "  </thead>\n",
       "  <tbody>\n",
       "    <tr>\n",
       "      <th>116</th>\n",
       "      <td>Monsieur</td>\n",
       "      <td>Scarnera Gianni</td>\n",
       "      <td>2009</td>\n",
       "      <td>2013</td>\n",
       "    </tr>\n",
       "    <tr>\n",
       "      <th>269</th>\n",
       "      <td>Monsieur</td>\n",
       "      <td>Forel Duncan Montana</td>\n",
       "      <td>2012</td>\n",
       "      <td>2016</td>\n",
       "    </tr>\n",
       "    <tr>\n",
       "      <th>237</th>\n",
       "      <td>Monsieur</td>\n",
       "      <td>Rudelle Matthieu François Edgard</td>\n",
       "      <td>2011</td>\n",
       "      <td>2014</td>\n",
       "    </tr>\n",
       "    <tr>\n",
       "      <th>123</th>\n",
       "      <td>Monsieur</td>\n",
       "      <td>Vasta Rivo</td>\n",
       "      <td>2009</td>\n",
       "      <td>2012</td>\n",
       "    </tr>\n",
       "    <tr>\n",
       "      <th>308</th>\n",
       "      <td>Madame</td>\n",
       "      <td>Richard Lou Fortunée Valentine Yvonne Émilie</td>\n",
       "      <td>2012</td>\n",
       "      <td>2016</td>\n",
       "    </tr>\n",
       "    <tr>\n",
       "      <th>287</th>\n",
       "      <td>Monsieur</td>\n",
       "      <td>Le Bail-Collet Simon Pierre Yvick</td>\n",
       "      <td>2012</td>\n",
       "      <td>2016</td>\n",
       "    </tr>\n",
       "    <tr>\n",
       "      <th>57</th>\n",
       "      <td>Madame</td>\n",
       "      <td>Heldner Céline</td>\n",
       "      <td>2008</td>\n",
       "      <td>2011</td>\n",
       "    </tr>\n",
       "    <tr>\n",
       "      <th>252</th>\n",
       "      <td>Monsieur</td>\n",
       "      <td>Beguet Romain Michel</td>\n",
       "      <td>2012</td>\n",
       "      <td>2015</td>\n",
       "    </tr>\n",
       "    <tr>\n",
       "      <th>115</th>\n",
       "      <td>Madame</td>\n",
       "      <td>Rollier Orianne</td>\n",
       "      <td>2009</td>\n",
       "      <td>2013</td>\n",
       "    </tr>\n",
       "    <tr>\n",
       "      <th>7</th>\n",
       "      <td>Monsieur</td>\n",
       "      <td>Boéchat Marc-Alexandre</td>\n",
       "      <td>2007</td>\n",
       "      <td>2010</td>\n",
       "    </tr>\n",
       "  </tbody>\n",
       "</table>\n",
       "</div>"
      ],
      "text/plain": [
       "     Civilité                                    Nom Prénom  \\\n",
       "116  Monsieur                               Scarnera Gianni   \n",
       "269  Monsieur                          Forel Duncan Montana   \n",
       "237  Monsieur              Rudelle Matthieu François Edgard   \n",
       "123  Monsieur                                    Vasta Rivo   \n",
       "308    Madame  Richard Lou Fortunée Valentine Yvonne Émilie   \n",
       "287  Monsieur             Le Bail-Collet Simon Pierre Yvick   \n",
       "57     Madame                                Heldner Céline   \n",
       "252  Monsieur                          Beguet Romain Michel   \n",
       "115    Madame                               Rollier Orianne   \n",
       "7    Monsieur                        Boéchat Marc-Alexandre   \n",
       "\n",
       "     Bachelor semestre 1  Bachelor semestre 6  \n",
       "116                 2009                 2013  \n",
       "269                 2012                 2016  \n",
       "237                 2011                 2014  \n",
       "123                 2009                 2012  \n",
       "308                 2012                 2016  \n",
       "287                 2012                 2016  \n",
       "57                  2008                 2011  \n",
       "252                 2012                 2015  \n",
       "115                 2009                 2013  \n",
       "7                   2007                 2010  "
      ]
     },
     "execution_count": 8,
     "metadata": {},
     "output_type": "execute_result"
    }
   ],
   "source": [
    "starting = starting[~starting.index.duplicated(keep='first')]  # Ignore repeated first years\n",
    "ending = ending[~ending.index.duplicated(keep='last')]  # Keep last 6th semester only\n",
    "\n",
    "# Merge both dataframes.\n",
    "students = pd.merge(starting, ending, how='inner')\n",
    "# The 6th semester is always in spring (year + 1)\n",
    "students['Bachelor semestre 6'] = students['Bachelor semestre 6'] + 1\n",
    "students.sample(10)"
   ]
  },
  {
   "cell_type": "code",
   "execution_count": 11,
   "metadata": {
    "collapsed": false
   },
   "outputs": [
    {
     "name": "stdout",
     "output_type": "stream",
     "text": [
      "Male (Monsieur): 368\n",
      "Female (Madame): 29\n"
     ]
    },
    {
     "data": {
      "text/html": [
       "<div>\n",
       "<table border=\"1\" class=\"dataframe\">\n",
       "  <thead>\n",
       "    <tr style=\"text-align: right;\">\n",
       "      <th></th>\n",
       "      <th>Delta</th>\n",
       "    </tr>\n",
       "    <tr>\n",
       "      <th>Civilité</th>\n",
       "      <th></th>\n",
       "    </tr>\n",
       "  </thead>\n",
       "  <tbody>\n",
       "    <tr>\n",
       "      <th>Madame</th>\n",
       "      <td>39.724138</td>\n",
       "    </tr>\n",
       "    <tr>\n",
       "      <th>Monsieur</th>\n",
       "      <td>41.771739</td>\n",
       "    </tr>\n",
       "  </tbody>\n",
       "</table>\n",
       "</div>"
      ],
      "text/plain": [
       "              Delta\n",
       "Civilité           \n",
       "Madame    39.724138\n",
       "Monsieur  41.771739"
      ]
     },
     "execution_count": 11,
     "metadata": {},
     "output_type": "execute_result"
    }
   ],
   "source": [
    "students['Delta'] = (students['Bachelor semestre 6'] - students['Bachelor semestre 1']) * 12 # months in a year\n",
    "print('Male (Monsieur):', students[students['Civilité'] == 'Monsieur'].shape[0])\n",
    "print('Female (Madame):', students[students['Civilité'] == 'Madame'].shape[0])\n",
    "students.groupby('Civilité')[['Delta']].mean()"
   ]
  },
  {
   "cell_type": "markdown",
   "metadata": {},
   "source": [
    "# 2"
   ]
  },
  {
   "cell_type": "code",
   "execution_count": null,
   "metadata": {
    "collapsed": true
   },
   "outputs": [],
   "source": []
  }
 ],
 "metadata": {
  "anaconda-cloud": {},
  "kernelspec": {
   "display_name": "Python [Root]",
   "language": "python",
   "name": "Python [Root]"
  },
  "language_info": {
   "codemirror_mode": {
    "name": "ipython",
    "version": 3
   },
   "file_extension": ".py",
   "mimetype": "text/x-python",
   "name": "python",
   "nbconvert_exporter": "python",
   "pygments_lexer": "ipython3",
   "version": "3.5.2"
  }
 },
 "nbformat": 4,
 "nbformat_minor": 0
}
