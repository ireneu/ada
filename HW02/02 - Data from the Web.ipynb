{
 "cells": [
  {
   "cell_type": "markdown",
   "metadata": {
    "collapsed": true
   },
   "source": [
    "# 1. HTTP Request with Postman\n",
    "<br>\n",
    "Querrying IS-Academia for \"Informatique, 2007-2008, Bachelor semestre 1\" gives the following parameters on Postman :<br>\n",
    "ww_x_GPS : 71297531<br>\n",
    "ww_i_reportModel : 133685247<br>\n",
    "ww_i_reportModelXsl : 133685270<br>\n",
    "ww_x_UNITE_ACAD : 249847<br>\n",
    "ww_x_PERIODE_ACAD : 978181<br>\n",
    "ww_x_PERIODE_PEDAGO : 249108<br>\n",
    "ww_x_HIVERETE : null<br>\n",
    "\n",
    "\n",
    "So here are the parameters that we are mostly interesting in :<br>\n",
    "ww_x_UNITE_ACAD  <- Informatique<br>\n",
    "ww_x_PERIODE_ACAD  <- 2007 - 2016<br>\n",
    "ww_x_PERIODE_PEDAGO  <- Bachelor semestre 1 and Bachelor semestre 6<br>"
   ]
  },
  {
   "cell_type": "code",
   "execution_count": 1,
   "metadata": {
    "collapsed": true
   },
   "outputs": [],
   "source": [
    "import numpy as np\n",
    "import pandas as pd\n",
    "import requests\n",
    "import seaborn as sns\n",
    "from bs4 import BeautifulSoup\n",
    "\n",
    "sns.set_context('notebook')"
   ]
  },
  {
   "cell_type": "code",
   "execution_count": 2,
   "metadata": {
    "collapsed": false,
    "scrolled": false
   },
   "outputs": [],
   "source": [
    "form_url = \"http://isa.epfl.ch/imoniteur_ISAP/!GEDPUBLICREPORTS.filter\"\n",
    "base_url = 'http://isa.epfl.ch/imoniteur_ISAP/!GEDPUBLICREPORTS.html'\n",
    "get_parameters = {\n",
    "    'ww_i_reportModel': '133685247',  # Report Model for registered students by section and semester\n",
    "    'ww_i_reportModelXsl': '133685270',  # HTML output\n",
    "}\n",
    "r  = requests.get(form_url, get_parameters)\n",
    "soup = BeautifulSoup(r.text, 'html.parser')"
   ]
  },
  {
   "cell_type": "code",
   "execution_count": 3,
   "metadata": {
    "collapsed": false
   },
   "outputs": [
    {
     "name": "stdout",
     "output_type": "stream",
     "text": [
      "Academic unit: {'ww_x_UNITE_ACAD': '249847'} \n",
      "\n",
      "Academic periods: {'2015-2016': '213638028', '2013-2014': '213637754', '2012-2013': '123456101', '2009-2010': '978195', '2016-2017': '355925344', '2008-2009': '978187', '2010-2011': '39486325', '2011-2012': '123455150', '2007-2008': '978181', '2014-2015': '213637922'} \n",
      "\n",
      "Pedagogic period: {'Bachelor semestre 1': '249108', 'Bachelor semestre 6': '942175'}\n"
     ]
    }
   ],
   "source": [
    "# Extract the appropriate parameters from the html\n",
    "academic_unit = {'ww_x_UNITE_ACAD': soup.find('option', string='Informatique')['value']}\n",
    "print('Academic unit:', academic_unit, '\\n')\n",
    "\n",
    "academic_period_select = soup.find('select', attrs={'name': 'ww_x_PERIODE_ACAD'})\n",
    "academic_period_dict = {option.string: option['value']\n",
    "                        for option in academic_period_select\n",
    "                        if option.string is not None}\n",
    "print('Academic periods:', academic_period_dict, '\\n')\n",
    "\n",
    "pedag_period_select = soup.find('select', attrs={'name': 'ww_x_PERIODE_PEDAGO'})\n",
    "searched_pedag_periods = {'Bachelor semestre 1', 'Bachelor semestre 6'}\n",
    "pedag_period = {option.string: option['value']\n",
    "                for option in pedag_period_select\n",
    "                if option.string in searched_pedag_periods}\n",
    "print('Pedagogic period:', pedag_period)"
   ]
  },
  {
   "cell_type": "code",
   "execution_count": 4,
   "metadata": {
    "collapsed": false
   },
   "outputs": [],
   "source": [
    "get_parameters.update(academic_unit)  # Add academic unit to get parameters\n",
    "get_parameters.update({'ww_x_GPS': '-1'})  # This parameters represents the \"Tous\" (\"All\") link returned by the form."
   ]
  },
  {
   "cell_type": "code",
   "execution_count": 5,
   "metadata": {
    "collapsed": false
   },
   "outputs": [],
   "source": [
    "def build_dataframe(pedagogic_period: str) -> pd.DataFrame:\n",
    "    \"\"\"This function takes a list of academic periods (eg: ['2007-2008', '2008-2009', ...])\n",
    "    and a pedagogic period (eg: 'Bachelor semestre 1') and builds a dataframe with all\n",
    "    concerned students.\n",
    "    \"\"\"\n",
    "    df = pd.DataFrame()\n",
    "    for i, academic_period in enumerate(sorted(academic_period_dict.keys())):  # 2007 until 2016\n",
    "        # Request GET parameters\n",
    "        request_params = {**get_parameters,\n",
    "                          'ww_x_PERIODE_ACAD': academic_period_dict.get(academic_period),\n",
    "                          'ww_x_PERIODE_PEDAGO': pedag_period.get(pedagogic_period)}\n",
    "        r = requests.get(base_url, request_params)\n",
    "        temp_df = pd.read_html(r.text, header=1, index_col=10)[0]  # User sciper nº as index\n",
    "        temp_df = temp_df[['Civilité', 'Nom Prénom']]  # Keep relevant columns only\n",
    "        temp_df[pedagogic_period] = i + 2007  # Annotate the corresponding year for the pedagogic period\n",
    "        df = pd.concat([df, temp_df])\n",
    "    return df\n",
    "\n",
    "# Load all CS students that did their first and last bachelor semesters\n",
    "starting = build_dataframe('Bachelor semestre 1')\n",
    "ending = build_dataframe('Bachelor semestre 6')"
   ]
  },
  {
   "cell_type": "code",
   "execution_count": 6,
   "metadata": {
    "collapsed": false
   },
   "outputs": [
    {
     "data": {
      "text/html": [
       "<div>\n",
       "<table border=\"1\" class=\"dataframe\">\n",
       "  <thead>\n",
       "    <tr style=\"text-align: right;\">\n",
       "      <th></th>\n",
       "      <th>Civilité</th>\n",
       "      <th>Nom Prénom</th>\n",
       "      <th>Bachelor semestre 1</th>\n",
       "      <th>Bachelor semestre 6</th>\n",
       "    </tr>\n",
       "  </thead>\n",
       "  <tbody>\n",
       "    <tr>\n",
       "      <th>141</th>\n",
       "      <td>Monsieur</td>\n",
       "      <td>Coppex Gilles</td>\n",
       "      <td>2010</td>\n",
       "      <td>2013</td>\n",
       "    </tr>\n",
       "    <tr>\n",
       "      <th>346</th>\n",
       "      <td>Monsieur</td>\n",
       "      <td>Dunant Raphaël Paul</td>\n",
       "      <td>2013</td>\n",
       "      <td>2016</td>\n",
       "    </tr>\n",
       "    <tr>\n",
       "      <th>395</th>\n",
       "      <td>Monsieur</td>\n",
       "      <td>Vaucher Timoté Pascal</td>\n",
       "      <td>2014</td>\n",
       "      <td>2017</td>\n",
       "    </tr>\n",
       "    <tr>\n",
       "      <th>313</th>\n",
       "      <td>Madame</td>\n",
       "      <td>Sbai Marion Fadoi</td>\n",
       "      <td>2012</td>\n",
       "      <td>2015</td>\n",
       "    </tr>\n",
       "    <tr>\n",
       "      <th>305</th>\n",
       "      <td>Monsieur</td>\n",
       "      <td>Raemy Baptiste</td>\n",
       "      <td>2012</td>\n",
       "      <td>2015</td>\n",
       "    </tr>\n",
       "    <tr>\n",
       "      <th>387</th>\n",
       "      <td>Monsieur</td>\n",
       "      <td>Lamonato Yves</td>\n",
       "      <td>2014</td>\n",
       "      <td>2017</td>\n",
       "    </tr>\n",
       "    <tr>\n",
       "      <th>340</th>\n",
       "      <td>Monsieur</td>\n",
       "      <td>Collaud Jonathan</td>\n",
       "      <td>2013</td>\n",
       "      <td>2016</td>\n",
       "    </tr>\n",
       "    <tr>\n",
       "      <th>375</th>\n",
       "      <td>Monsieur</td>\n",
       "      <td>Zbinden Boris Adrien</td>\n",
       "      <td>2013</td>\n",
       "      <td>2016</td>\n",
       "    </tr>\n",
       "    <tr>\n",
       "      <th>241</th>\n",
       "      <td>Monsieur</td>\n",
       "      <td>Séguy Louis Marie James</td>\n",
       "      <td>2011</td>\n",
       "      <td>2015</td>\n",
       "    </tr>\n",
       "    <tr>\n",
       "      <th>41</th>\n",
       "      <td>Monsieur</td>\n",
       "      <td>Arnfred Jonas</td>\n",
       "      <td>2008</td>\n",
       "      <td>2011</td>\n",
       "    </tr>\n",
       "  </tbody>\n",
       "</table>\n",
       "</div>"
      ],
      "text/plain": [
       "     Civilité               Nom Prénom  Bachelor semestre 1  \\\n",
       "141  Monsieur            Coppex Gilles                 2010   \n",
       "346  Monsieur      Dunant Raphaël Paul                 2013   \n",
       "395  Monsieur    Vaucher Timoté Pascal                 2014   \n",
       "313    Madame        Sbai Marion Fadoi                 2012   \n",
       "305  Monsieur           Raemy Baptiste                 2012   \n",
       "387  Monsieur            Lamonato Yves                 2014   \n",
       "340  Monsieur         Collaud Jonathan                 2013   \n",
       "375  Monsieur     Zbinden Boris Adrien                 2013   \n",
       "241  Monsieur  Séguy Louis Marie James                 2011   \n",
       "41   Monsieur            Arnfred Jonas                 2008   \n",
       "\n",
       "     Bachelor semestre 6  \n",
       "141                 2013  \n",
       "346                 2016  \n",
       "395                 2017  \n",
       "313                 2015  \n",
       "305                 2015  \n",
       "387                 2017  \n",
       "340                 2016  \n",
       "375                 2016  \n",
       "241                 2015  \n",
       "41                  2011  "
      ]
     },
     "execution_count": 6,
     "metadata": {},
     "output_type": "execute_result"
    }
   ],
   "source": [
    "starting = starting[~starting.index.duplicated(keep='first')]  # Ignore repeated first years\n",
    "ending = ending[~ending.index.duplicated(keep='last')]  # Keep last 6th semester only\n",
    "\n",
    "# Merge both dataframes.\n",
    "students = pd.merge(starting, ending, how='inner')\n",
    "# The 6th semester is always in spring (year + 1)\n",
    "students['Bachelor semestre 6'] = students['Bachelor semestre 6'] + 1\n",
    "students.sample(10)"
   ]
  },
  {
   "cell_type": "code",
   "execution_count": 7,
   "metadata": {
    "collapsed": false
   },
   "outputs": [
    {
     "name": "stdout",
     "output_type": "stream",
     "text": [
      "Male (Monsieur): 368\n",
      "Female (Madame): 29\n"
     ]
    },
    {
     "data": {
      "text/html": [
       "<div>\n",
       "<table border=\"1\" class=\"dataframe\">\n",
       "  <thead>\n",
       "    <tr style=\"text-align: right;\">\n",
       "      <th></th>\n",
       "      <th>Delta</th>\n",
       "    </tr>\n",
       "    <tr>\n",
       "      <th>Civilité</th>\n",
       "      <th></th>\n",
       "    </tr>\n",
       "  </thead>\n",
       "  <tbody>\n",
       "    <tr>\n",
       "      <th>Madame</th>\n",
       "      <td>39.724138</td>\n",
       "    </tr>\n",
       "    <tr>\n",
       "      <th>Monsieur</th>\n",
       "      <td>41.771739</td>\n",
       "    </tr>\n",
       "  </tbody>\n",
       "</table>\n",
       "</div>"
      ],
      "text/plain": [
       "              Delta\n",
       "Civilité           \n",
       "Madame    39.724138\n",
       "Monsieur  41.771739"
      ]
     },
     "execution_count": 7,
     "metadata": {},
     "output_type": "execute_result"
    }
   ],
   "source": [
    "students['Delta'] = (students['Bachelor semestre 6'] - students['Bachelor semestre 1']) * 12 # months in a year\n",
    "print('Male (Monsieur):', students[students['Civilité'] == 'Monsieur'].shape[0])\n",
    "print('Female (Madame):', students[students['Civilité'] == 'Madame'].shape[0])\n",
    "students.groupby('Civilité')[['Delta']].mean()"
   ]
  },
  {
   "cell_type": "markdown",
   "metadata": {},
   "source": [
    "# 2"
   ]
  },
  {
   "cell_type": "markdown",
   "metadata": {},
   "source": [
    "We consider that every entry corresponding to a semester corresponds to six months spent at EPFL. Therefore, for each master student, we compute the total number of semesters spent at EPFL, then multiply it to have the duration of the stay in months."
   ]
  },
  {
   "cell_type": "code",
   "execution_count": null,
   "metadata": {
    "collapsed": false
   },
   "outputs": [],
   "source": [
    "#Doing as previous but with master pedagogic periods\n",
    "#Params of master periods\n",
    "master_searched_pedag_periods = {'Master semestre 1', 'Master semestre 2', 'Master semestre 3', 'Projet Master automne', 'Projet Master printemps'}\n",
    "master_pedag_period = {option.string: option['value']\n",
    "                for option in pedag_period_select\n",
    "                if option.string in master_searched_pedag_periods}\n",
    "#print('Master Pedagogic period:', pedag_period)\n",
    "\n",
    "#Redefining build_dataframe with the new columns that we are interested in\n",
    "def build_master_dataframe(pedagogic_period: str) -> pd.DataFrame:\n",
    "    \"\"\"This function takes a list of academic periods (eg: ['2007-2008', '2008-2009', ...])\n",
    "    and a pedagogic period (eg: 'Master semestre 1') and builds a dataframe with all\n",
    "    concerned students.\n",
    "    \"\"\"\n",
    "    df = pd.DataFrame()\n",
    "    for i, academic_period in enumerate(sorted(academic_period_dict.keys())):  # 2007 until 2016\n",
    "        # Request GET parameters\n",
    "        request_params = {**get_parameters,\n",
    "                          'ww_x_PERIODE_ACAD': academic_period_dict.get(academic_period),\n",
    "                          'ww_x_PERIODE_PEDAGO': master_pedag_period.get(pedagogic_period)}\n",
    "        r = requests.get(base_url, request_params)\n",
    "        if('Civilité' in r.text): #check if there is a header i.e. any entries\n",
    "            temp_df = pd.read_html(r.text, header=1, index_col=10)[0]  # User sciper nº as index\n",
    "            temp_df = temp_df[['Civilité', 'Nom Prénom', 'Mineur']]  # Keep relevant columns only\n",
    "            temp_df[pedagogic_period] = i + 2007  # Annotate the corresponding year for the pedagogic period\n",
    "            df = pd.concat([df, temp_df])\n",
    "    return df\n",
    "\n",
    "# Load all CS students that did their first and last bachelor semesters\n",
    "ma_1 = build_master_dataframe('Master semestre 1')\n",
    "ma_2 = build_master_dataframe('Master semestre 2')\n",
    "ma_3 = build_master_dataframe('Master semestre 3')\n",
    "pdm_1 = build_master_dataframe('Projet Master automne')\n",
    "#pdm_2 = build_master_dataframe('Projet Master printemps')"
   ]
  },
  {
   "cell_type": "code",
   "execution_count": null,
   "metadata": {
    "collapsed": false
   },
   "outputs": [],
   "source": [
    "ma_1.head()"
   ]
  },
  {
   "cell_type": "markdown",
   "metadata": {},
   "source": [
    "Here, we count the number of entries for each student in each semester dataframe, then combine and sum to find the total number of semsters per student."
   ]
  },
  {
   "cell_type": "code",
   "execution_count": 43,
   "metadata": {
    "collapsed": false
   },
   "outputs": [
    {
     "data": {
      "text/plain": [
       "Abbadi Hajar        3.0\n",
       "Abelenda Diego      4.0\n",
       "Abi Akar Nora       3.0\n",
       "Adamsons Valdis     1.0\n",
       "Adams Marc Alain    1.0\n",
       "dtype: float64"
      ]
     },
     "execution_count": 43,
     "metadata": {},
     "output_type": "execute_result"
    }
   ],
   "source": [
    "# Merge dataframes.\n",
    "\n",
    "ma_1_count = ma_1.groupby('Nom Prénom').count()['Master semestre 1']\n",
    "ma_2_count = ma_2.groupby('Nom Prénom').count()['Master semestre 2']\n",
    "ma_3_count = ma_3.groupby('Nom Prénom').count()['Master semestre 3']\n",
    "pdm_1_count = pdm_1.groupby('Nom Prénom').count()['Projet Master automne']\n",
    "pdm_1_count = pdm_1.groupby('Nom Prénom').count()['Projet Master printemps']\n",
    "\n",
    "#Concatenate data from all semesters\n",
    "students = pd.concat([ma_1_count, ma_2_count, ma_3_count, pdm_1_count], axis = 1)\n",
    "\n",
    "#Sum all columns to find the total number of semesters per student\n",
    "students_sem_count = students.sum(axis = 1)\n",
    "\n",
    "students_sem_count.head()"
   ]
  },
  {
   "cell_type": "markdown",
   "metadata": {
    "collapsed": true
   },
   "source": [
    "We then average over all students to find the average number of semesters, and multiply by 6 to find the average number of months spent at EPFL for master students."
   ]
  },
  {
   "cell_type": "code",
   "execution_count": 41,
   "metadata": {
    "collapsed": false
   },
   "outputs": [
    {
     "data": {
      "text/plain": [
       "17.20777891504606"
      ]
     },
     "execution_count": 41,
     "metadata": {},
     "output_type": "execute_result"
    }
   ],
   "source": [
    "students_sem_count.mean()*6"
   ]
  },
  {
   "cell_type": "code",
   "execution_count": null,
   "metadata": {
    "collapsed": true
   },
   "outputs": [],
   "source": []
  }
 ],
 "metadata": {
  "anaconda-cloud": {},
  "kernelspec": {
   "display_name": "Python [default]",
   "language": "python",
   "name": "python3"
  },
  "language_info": {
   "codemirror_mode": {
    "name": "ipython",
    "version": 3
   },
   "file_extension": ".py",
   "mimetype": "text/x-python",
   "name": "python",
   "nbconvert_exporter": "python",
   "pygments_lexer": "ipython3",
   "version": "3.5.2"
  }
 },
 "nbformat": 4,
 "nbformat_minor": 0
}
