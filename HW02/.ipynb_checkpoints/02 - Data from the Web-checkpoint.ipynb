{
 "cells": [
  {
   "cell_type": "markdown",
   "metadata": {
    "collapsed": true
   },
   "source": [
    "# 1. HTTP Request with Postman\n",
    "<br>\n",
    "Querrying IS-Academia for \"Informatique, 2007-2008, Bachelor semestre 1\" gives the following parameters on Postman :<br>\n",
    "ww_x_GPS : 71297531<br>\n",
    "ww_i_reportModel : 133685247<br>\n",
    "ww_i_reportModelXsl : 133685270<br>\n",
    "ww_x_UNITE_ACAD : 249847<br>\n",
    "ww_x_PERIODE_ACAD : 978181<br>\n",
    "ww_x_PERIODE_PEDAGO : 249108<br>\n",
    "ww_x_HIVERETE : null<br>\n",
    "\n",
    "\n",
    "So here are the parameters that we are mostly interesting in :<br>\n",
    "ww_x_UNITE_ACAD  <- Informatique<br>\n",
    "ww_x_PERIODE_ACAD  <- 2007 - 2016<br>\n",
    "ww_x_PERIODE_PEDAGO  <- Bachelor semestre 1 and Bachelor semestre 6<br>"
   ]
  },
  {
   "cell_type": "code",
   "execution_count": 16,
   "metadata": {
    "collapsed": true
   },
   "outputs": [],
   "source": [
    "import numpy as np\n",
    "import pandas as pd\n",
    "import requests\n",
    "import seaborn as sns\n",
    "from bs4 import BeautifulSoup\n",
    "\n",
    "sns.set_context('notebook')"
   ]
  },
  {
   "cell_type": "code",
   "execution_count": 17,
   "metadata": {
    "collapsed": false,
    "scrolled": false
   },
   "outputs": [],
   "source": [
    "form_url = \"http://isa.epfl.ch/imoniteur_ISAP/!GEDPUBLICREPORTS.filter\"\n",
    "base_url = 'http://isa.epfl.ch/imoniteur_ISAP/!GEDPUBLICREPORTS.html'\n",
    "get_parameters = {\n",
    "    'ww_i_reportModel': '133685247',  # Report Model for registered students by section and semester\n",
    "    'ww_i_reportModelXsl': '133685270',  # HTML output\n",
    "}\n",
    "r  = requests.get(form_url, get_parameters)\n",
    "soup = BeautifulSoup(r.text, 'html.parser')"
   ]
  },
  {
   "cell_type": "code",
   "execution_count": 18,
   "metadata": {
    "collapsed": false
   },
   "outputs": [
    {
     "name": "stdout",
     "output_type": "stream",
     "text": [
      "Academic unit: {'ww_x_UNITE_ACAD': '249847'} \n",
      "\n",
      "Academic periods: {'2012-2013': '123456101', '2015-2016': '213638028', '2016-2017': '355925344', '2013-2014': '213637754', '2014-2015': '213637922', '2008-2009': '978187', '2007-2008': '978181', '2010-2011': '39486325', '2011-2012': '123455150', '2009-2010': '978195'} \n",
      "\n",
      "Pedagogic period: {'Bachelor semestre 1': '249108', 'Bachelor semestre 6': '942175'}\n"
     ]
    }
   ],
   "source": [
    "# Extract the appropriate parameters from the html\n",
    "academic_unit = {'ww_x_UNITE_ACAD': soup.find('option', string='Informatique')['value']}\n",
    "print('Academic unit:', academic_unit, '\\n')\n",
    "\n",
    "academic_period_select = soup.find('select', attrs={'name': 'ww_x_PERIODE_ACAD'})\n",
    "academic_period_dict = {option.string: option['value']\n",
    "                        for option in academic_period_select\n",
    "                        if option.string is not None}\n",
    "print('Academic periods:', academic_period_dict, '\\n')\n",
    "\n",
    "pedag_period_select = soup.find('select', attrs={'name': 'ww_x_PERIODE_PEDAGO'})\n",
    "searched_pedag_periods = {'Bachelor semestre 1', 'Bachelor semestre 6'}\n",
    "pedag_period = {option.string: option['value']\n",
    "                for option in pedag_period_select\n",
    "                if option.string in searched_pedag_periods}\n",
    "print('Pedagogic period:', pedag_period)"
   ]
  },
  {
   "cell_type": "code",
   "execution_count": 19,
   "metadata": {
    "collapsed": false
   },
   "outputs": [],
   "source": [
    "get_parameters.update(academic_unit)  # Add academic unit to get parameters\n",
    "get_parameters.update({'ww_x_GPS': '-1'})  # This parameters represents the \"Tous\" (\"All\") link returned by the form."
   ]
  },
  {
   "cell_type": "code",
   "execution_count": 20,
   "metadata": {
    "collapsed": false
   },
   "outputs": [],
   "source": [
    "def build_dataframe(pedagogic_period: str) -> pd.DataFrame:\n",
    "    \"\"\"This function takes a list of academic periods (eg: ['2007-2008', '2008-2009', ...])\n",
    "    and a pedagogic period (eg: 'Bachelor semestre 1') and builds a dataframe with all\n",
    "    concerned students.\n",
    "    \"\"\"\n",
    "    df = pd.DataFrame()\n",
    "    for i, academic_period in enumerate(sorted(academic_period_dict.keys())):  # 2007 until 2016\n",
    "        # Request GET parameters\n",
    "        request_params = {**get_parameters,\n",
    "                          'ww_x_PERIODE_ACAD': academic_period_dict.get(academic_period),\n",
    "                          'ww_x_PERIODE_PEDAGO': pedag_period.get(pedagogic_period)}\n",
    "        r = requests.get(base_url, request_params)\n",
    "        temp_df = pd.read_html(r.text, header=1, index_col=10)[0]  # User sciper nº as index\n",
    "        temp_df = temp_df[['Civilité', 'Nom Prénom']]  # Keep relevant columns only\n",
    "        temp_df[pedagogic_period] = i + 2007  # Annotate the corresponding year for the pedagogic period\n",
    "        df = pd.concat([df, temp_df])\n",
    "    return df\n",
    "\n",
    "# Load all CS students that did their first and last bachelor semesters\n",
    "starting = build_dataframe('Bachelor semestre 1')\n",
    "ending = build_dataframe('Bachelor semestre 6')"
   ]
  },
  {
   "cell_type": "code",
   "execution_count": 21,
   "metadata": {
    "collapsed": false
   },
   "outputs": [
    {
     "data": {
      "text/html": [
       "<div>\n",
       "<table border=\"1\" class=\"dataframe\">\n",
       "  <thead>\n",
       "    <tr style=\"text-align: right;\">\n",
       "      <th></th>\n",
       "      <th>Civilité</th>\n",
       "      <th>Nom Prénom</th>\n",
       "      <th>Bachelor semestre 1</th>\n",
       "      <th>Bachelor semestre 6</th>\n",
       "    </tr>\n",
       "  </thead>\n",
       "  <tbody>\n",
       "    <tr>\n",
       "      <th>134</th>\n",
       "      <td>Monsieur</td>\n",
       "      <td>Beguet Eric</td>\n",
       "      <td>2010</td>\n",
       "      <td>2013</td>\n",
       "    </tr>\n",
       "    <tr>\n",
       "      <th>315</th>\n",
       "      <td>Monsieur</td>\n",
       "      <td>Steinmann Raphaël Benjamin</td>\n",
       "      <td>2012</td>\n",
       "      <td>2016</td>\n",
       "    </tr>\n",
       "    <tr>\n",
       "      <th>234</th>\n",
       "      <td>Monsieur</td>\n",
       "      <td>Robert Arnaud</td>\n",
       "      <td>2011</td>\n",
       "      <td>2014</td>\n",
       "    </tr>\n",
       "    <tr>\n",
       "      <th>298</th>\n",
       "      <td>Monsieur</td>\n",
       "      <td>Ottet Loïc</td>\n",
       "      <td>2012</td>\n",
       "      <td>2015</td>\n",
       "    </tr>\n",
       "    <tr>\n",
       "      <th>307</th>\n",
       "      <td>Monsieur</td>\n",
       "      <td>Resin David</td>\n",
       "      <td>2012</td>\n",
       "      <td>2017</td>\n",
       "    </tr>\n",
       "    <tr>\n",
       "      <th>55</th>\n",
       "      <td>Monsieur</td>\n",
       "      <td>Gardiol Loïc</td>\n",
       "      <td>2008</td>\n",
       "      <td>2011</td>\n",
       "    </tr>\n",
       "    <tr>\n",
       "      <th>279</th>\n",
       "      <td>Monsieur</td>\n",
       "      <td>Haprian Vlad Ioan</td>\n",
       "      <td>2012</td>\n",
       "      <td>2015</td>\n",
       "    </tr>\n",
       "    <tr>\n",
       "      <th>287</th>\n",
       "      <td>Monsieur</td>\n",
       "      <td>Le Bail-Collet Simon Pierre Yvick</td>\n",
       "      <td>2012</td>\n",
       "      <td>2016</td>\n",
       "    </tr>\n",
       "    <tr>\n",
       "      <th>90</th>\n",
       "      <td>Monsieur</td>\n",
       "      <td>Bourban Fabien</td>\n",
       "      <td>2009</td>\n",
       "      <td>2013</td>\n",
       "    </tr>\n",
       "    <tr>\n",
       "      <th>320</th>\n",
       "      <td>Monsieur</td>\n",
       "      <td>Torche Jérôme William</td>\n",
       "      <td>2012</td>\n",
       "      <td>2015</td>\n",
       "    </tr>\n",
       "  </tbody>\n",
       "</table>\n",
       "</div>"
      ],
      "text/plain": [
       "     Civilité                         Nom Prénom  Bachelor semestre 1  \\\n",
       "134  Monsieur                        Beguet Eric                 2010   \n",
       "315  Monsieur         Steinmann Raphaël Benjamin                 2012   \n",
       "234  Monsieur                      Robert Arnaud                 2011   \n",
       "298  Monsieur                         Ottet Loïc                 2012   \n",
       "307  Monsieur                        Resin David                 2012   \n",
       "55   Monsieur                       Gardiol Loïc                 2008   \n",
       "279  Monsieur                  Haprian Vlad Ioan                 2012   \n",
       "287  Monsieur  Le Bail-Collet Simon Pierre Yvick                 2012   \n",
       "90   Monsieur                     Bourban Fabien                 2009   \n",
       "320  Monsieur              Torche Jérôme William                 2012   \n",
       "\n",
       "     Bachelor semestre 6  \n",
       "134                 2013  \n",
       "315                 2016  \n",
       "234                 2014  \n",
       "298                 2015  \n",
       "307                 2017  \n",
       "55                  2011  \n",
       "279                 2015  \n",
       "287                 2016  \n",
       "90                  2013  \n",
       "320                 2015  "
      ]
     },
     "execution_count": 21,
     "metadata": {},
     "output_type": "execute_result"
    }
   ],
   "source": [
    "starting = starting[~starting.index.duplicated(keep='first')]  # Ignore repeated first years\n",
    "ending = ending[~ending.index.duplicated(keep='last')]  # Keep last 6th semester only\n",
    "\n",
    "# Merge both dataframes.\n",
    "students = pd.merge(starting, ending, how='inner')\n",
    "# The 6th semester is always in spring (year + 1)\n",
    "students['Bachelor semestre 6'] = students['Bachelor semestre 6'] + 1\n",
    "students.sample(10)"
   ]
  },
  {
   "cell_type": "code",
   "execution_count": 22,
   "metadata": {
    "collapsed": false
   },
   "outputs": [
    {
     "name": "stdout",
     "output_type": "stream",
     "text": [
      "Male (Monsieur): 368\n",
      "Female (Madame): 29\n"
     ]
    },
    {
     "data": {
      "text/html": [
       "<div>\n",
       "<table border=\"1\" class=\"dataframe\">\n",
       "  <thead>\n",
       "    <tr style=\"text-align: right;\">\n",
       "      <th></th>\n",
       "      <th>Delta</th>\n",
       "    </tr>\n",
       "    <tr>\n",
       "      <th>Civilité</th>\n",
       "      <th></th>\n",
       "    </tr>\n",
       "  </thead>\n",
       "  <tbody>\n",
       "    <tr>\n",
       "      <th>Madame</th>\n",
       "      <td>39.724138</td>\n",
       "    </tr>\n",
       "    <tr>\n",
       "      <th>Monsieur</th>\n",
       "      <td>41.771739</td>\n",
       "    </tr>\n",
       "  </tbody>\n",
       "</table>\n",
       "</div>"
      ],
      "text/plain": [
       "              Delta\n",
       "Civilité           \n",
       "Madame    39.724138\n",
       "Monsieur  41.771739"
      ]
     },
     "execution_count": 22,
     "metadata": {},
     "output_type": "execute_result"
    }
   ],
   "source": [
    "students['Delta'] = (students['Bachelor semestre 6'] - students['Bachelor semestre 1']) * 12 # months in a year\n",
    "print('Male (Monsieur):', students[students['Civilité'] == 'Monsieur'].shape[0])\n",
    "print('Female (Madame):', students[students['Civilité'] == 'Madame'].shape[0])\n",
    "students.groupby('Civilité')[['Delta']].mean()"
   ]
  },
  {
   "cell_type": "markdown",
   "metadata": {},
   "source": [
    "# 2"
   ]
  },
  {
   "cell_type": "code",
   "execution_count": 23,
   "metadata": {
    "collapsed": true
   },
   "outputs": [],
   "source": [
    "#Doing as previous but with master pedagogic periods\n",
    "#Params of master periods\n",
    "master_searched_pedag_periods = {'Master semestre 1', 'Master semestre 2', 'Master semestre 3', 'Projet Master automne', 'Projet Master printemps'}\n",
    "master_pedag_period = {option.string: option['value']\n",
    "                for option in pedag_period_select\n",
    "                if option.string in master_searched_pedag_periods}\n",
    "#print('Master Pedagogic period:', pedag_period)\n",
    "\n",
    "#Redefining build_dataframe with the new columns that we are interested in\n",
    "def build_master_dataframe(pedagogic_period: str) -> pd.DataFrame:\n",
    "    \"\"\"This function takes a list of academic periods (eg: ['2007-2008', '2008-2009', ...])\n",
    "    and a pedagogic period (eg: 'Master semestre 1') and builds a dataframe with all\n",
    "    concerned students.\n",
    "    \"\"\"\n",
    "    df = pd.DataFrame()\n",
    "    for i, academic_period in enumerate(sorted(academic_period_dict.keys())):  # 2007 until 2016\n",
    "        # Request GET parameters\n",
    "        request_params = {**get_parameters,\n",
    "                          'ww_x_PERIODE_ACAD': academic_period_dict.get(academic_period),\n",
    "                          'ww_x_PERIODE_PEDAGO': master_pedag_period.get(pedagogic_period)}\n",
    "        r = requests.get(base_url, request_params)\n",
    "        temp_df = pd.read_html(r.text, header=1, index_col=10)[0]  # User sciper nº as index\n",
    "        temp_df = temp_df[['Civilité', 'Nom Prénom', 'Mineur']]  # Keep relevant columns only\n",
    "        temp_df[pedagogic_period] = i + 2007  # Annotate the corresponding year for the pedagogic period\n",
    "        df = pd.concat([df, temp_df])\n",
    "    return df\n",
    "\n",
    "# Load all CS students that did their first and last bachelor semesters\n",
    "#ma_1 = build_master_dataframe('Master semestre 1')\n",
    "#ma_2 = build_master_dataframe('Master semestre 2')\n",
    "#ma_3 = build_master_dataframe('Master semestre 3')\n",
    "pdm_1 = build_master_dataframe('Projet Master automne')\n",
    "#pdm_2 = build_master_dataframe('Projet Master printemps')"
   ]
  },
  {
   "cell_type": "code",
   "execution_count": 24,
   "metadata": {
    "collapsed": false
   },
   "outputs": [
    {
     "data": {
      "text/html": [
       "<div>\n",
       "<table border=\"1\" class=\"dataframe\">\n",
       "  <thead>\n",
       "    <tr style=\"text-align: right;\">\n",
       "      <th></th>\n",
       "      <th>Civilité</th>\n",
       "      <th>Nom Prénom</th>\n",
       "      <th>Mineur</th>\n",
       "      <th>Projet Master automne</th>\n",
       "    </tr>\n",
       "    <tr>\n",
       "      <th>No Sciper</th>\n",
       "      <th></th>\n",
       "      <th></th>\n",
       "      <th></th>\n",
       "      <th></th>\n",
       "    </tr>\n",
       "  </thead>\n",
       "  <tbody>\n",
       "    <tr>\n",
       "      <th>173527</th>\n",
       "      <td>Monsieur</td>\n",
       "      <td>Stewart Conail</td>\n",
       "      <td>NaN</td>\n",
       "      <td>2007</td>\n",
       "    </tr>\n",
       "    <tr>\n",
       "      <th>180027</th>\n",
       "      <td>Madame</td>\n",
       "      <td>Agarwal Megha</td>\n",
       "      <td>NaN</td>\n",
       "      <td>2008</td>\n",
       "    </tr>\n",
       "    <tr>\n",
       "      <th>159852</th>\n",
       "      <td>Monsieur</td>\n",
       "      <td>Brutsche Florian</td>\n",
       "      <td>NaN</td>\n",
       "      <td>2008</td>\n",
       "    </tr>\n",
       "    <tr>\n",
       "      <th>166805</th>\n",
       "      <td>Monsieur</td>\n",
       "      <td>Fleury Marc-Olivier</td>\n",
       "      <td>NaN</td>\n",
       "      <td>2008</td>\n",
       "    </tr>\n",
       "    <tr>\n",
       "      <th>172264</th>\n",
       "      <td>Monsieur</td>\n",
       "      <td>Garg Nikhil</td>\n",
       "      <td>NaN</td>\n",
       "      <td>2008</td>\n",
       "    </tr>\n",
       "  </tbody>\n",
       "</table>\n",
       "</div>"
      ],
      "text/plain": [
       "           Civilité           Nom Prénom Mineur  Projet Master automne\n",
       "No Sciper                                                             \n",
       "173527     Monsieur       Stewart Conail    NaN                   2007\n",
       "180027       Madame        Agarwal Megha    NaN                   2008\n",
       "159852     Monsieur     Brutsche Florian    NaN                   2008\n",
       "166805     Monsieur  Fleury Marc-Olivier    NaN                   2008\n",
       "172264     Monsieur          Garg Nikhil    NaN                   2008"
      ]
     },
     "execution_count": 24,
     "metadata": {},
     "output_type": "execute_result"
    }
   ],
   "source": [
    "pdm_1.head()"
   ]
  },
  {
   "cell_type": "code",
   "execution_count": null,
   "metadata": {
    "collapsed": true
   },
   "outputs": [],
   "source": [
    "starting = starting[~starting.index.duplicated(keep='first')]  # Ignore repeated first years\n",
    "ending = ending[~ending.index.duplicated(keep='last')]  # Keep last 6th semester only\n",
    "\n",
    "# Merge both dataframes.\n",
    "students = pd.merge(starting, ending, how='inner')\n",
    "# The 6th semester is always in spring (year + 1)\n",
    "students['Bachelor semestre 6'] = students['Bachelor semestre 6'] + 1\n",
    "students.sample(10)"
   ]
  }
 ],
 "metadata": {
  "anaconda-cloud": {},
  "kernelspec": {
   "display_name": "Python [default]",
   "language": "python",
   "name": "python3"
  },
  "language_info": {
   "codemirror_mode": {
    "name": "ipython",
    "version": 3
   },
   "file_extension": ".py",
   "mimetype": "text/x-python",
   "name": "python",
   "nbconvert_exporter": "python",
   "pygments_lexer": "ipython3",
   "version": "3.5.2"
  }
 },
 "nbformat": 4,
 "nbformat_minor": 0
}
