{
 "cells": [
  {
   "cell_type": "markdown",
   "metadata": {
    "collapsed": true
   },
   "source": [
    "# 1. HTTP Request with Postman\n",
    "<br>\n",
    "Querrying IS-Academia for \"Informatique, 2007-2008, Bachelor semestre 1\" gives the following parameters on Postman :<br>\n",
    "ww_x_GPS : 71297531<br>\n",
    "ww_i_reportModel : 133685247<br>\n",
    "ww_i_reportModelXsl : 133685270<br>\n",
    "ww_x_UNITE_ACAD : 249847<br>\n",
    "ww_x_PERIODE_ACAD : 978181<br>\n",
    "ww_x_PERIODE_PEDAGO : 249108<br>\n",
    "ww_x_HIVERETE : null<br>\n",
    "\n",
    "\n",
    "So here are the parameters that we are mostly interesting in :<br>\n",
    "ww_x_UNITE_ACAD  <- Informatique<br>\n",
    "ww_x_PERIODE_ACAD  <- 2007 - 2016<br>\n",
    "ww_x_PERIODE_PEDAGO  <- Bachelor semestre 1 and Bachelor semestre 6<br>"
   ]
  },
  {
   "cell_type": "code",
   "execution_count": 213,
   "metadata": {
    "collapsed": true
   },
   "outputs": [],
   "source": [
    "import numpy as np\n",
    "import pandas as pd\n",
    "import requests\n",
    "import seaborn as sns\n",
    "import scipy.stats as stats\n",
    "from bs4 import BeautifulSoup\n",
    "\n",
    "sns.set_context('notebook')"
   ]
  },
  {
   "cell_type": "code",
   "execution_count": 195,
   "metadata": {
    "collapsed": false,
    "scrolled": false
   },
   "outputs": [],
   "source": [
    "form_url = \"http://isa.epfl.ch/imoniteur_ISAP/!GEDPUBLICREPORTS.filter\"\n",
    "base_url = 'http://isa.epfl.ch/imoniteur_ISAP/!GEDPUBLICREPORTS.html'\n",
    "get_parameters = {\n",
    "    'ww_i_reportModel': '133685247',  # Report Model for registered students by section and semester\n",
    "    'ww_i_reportModelXsl': '133685270',  # HTML output\n",
    "}\n",
    "r  = requests.get(form_url, get_parameters)\n",
    "soup = BeautifulSoup(r.text, 'html.parser')"
   ]
  },
  {
   "cell_type": "code",
   "execution_count": 196,
   "metadata": {
    "collapsed": false
   },
   "outputs": [
    {
     "name": "stdout",
     "output_type": "stream",
     "text": [
      "Academic unit: {'ww_x_UNITE_ACAD': '249847'} \n",
      "\n",
      "Academic periods: {'2014-2015': '213637922', '2008-2009': '978187', '2016-2017': '355925344', '2010-2011': '39486325', '2007-2008': '978181', '2011-2012': '123455150', '2013-2014': '213637754', '2012-2013': '123456101', '2015-2016': '213638028', '2009-2010': '978195'} \n",
      "\n",
      "Pedagogic period: {'Bachelor semestre 6': '942175', 'Bachelor semestre 1': '249108'}\n"
     ]
    }
   ],
   "source": [
    "# Extract the appropriate parameters from the html\n",
    "academic_unit = {'ww_x_UNITE_ACAD': soup.find('option', string='Informatique')['value']}\n",
    "print('Academic unit:', academic_unit, '\\n')\n",
    "\n",
    "academic_period_select = soup.find('select', attrs={'name': 'ww_x_PERIODE_ACAD'})\n",
    "academic_period_dict = {option.string: option['value']\n",
    "                        for option in academic_period_select\n",
    "                        if option.string is not None}\n",
    "print('Academic periods:', academic_period_dict, '\\n')\n",
    "\n",
    "pedag_period_select = soup.find('select', attrs={'name': 'ww_x_PERIODE_PEDAGO'})\n",
    "searched_pedag_periods = {'Bachelor semestre 1', 'Bachelor semestre 6'}\n",
    "pedag_period = {option.string: option['value']\n",
    "                for option in pedag_period_select\n",
    "                if option.string in searched_pedag_periods}\n",
    "print('Pedagogic period:', pedag_period)"
   ]
  },
  {
   "cell_type": "code",
   "execution_count": 197,
   "metadata": {
    "collapsed": false
   },
   "outputs": [],
   "source": [
    "get_parameters.update(academic_unit)  # Add academic unit to get parameters\n",
    "get_parameters.update({'ww_x_GPS': '-1'})  # This parameters represents the \"Tous\" (\"All\") link returned by the form."
   ]
  },
  {
   "cell_type": "code",
   "execution_count": 215,
   "metadata": {
    "collapsed": false
   },
   "outputs": [],
   "source": [
    "def build_dataframe(pedagogic_period: str) -> pd.DataFrame:\n",
    "    \"\"\"This function takes a list of academic periods (eg: ['2007-2008', '2008-2009', ...])\n",
    "    and a pedagogic period (eg: 'Bachelor semestre 1') and builds a dataframe with all\n",
    "    concerned students.\n",
    "    \"\"\"\n",
    "    df = pd.DataFrame()\n",
    "    for i, academic_period in enumerate(sorted(academic_period_dict.keys())):  # 2007 until 2016\n",
    "        # Request GET parameters\n",
    "        request_params = {**get_parameters,\n",
    "                          'ww_x_PERIODE_ACAD': academic_period_dict.get(academic_period),\n",
    "                          'ww_x_PERIODE_PEDAGO': pedag_period.get(pedagogic_period)}\n",
    "        r = requests.get(base_url, request_params)\n",
    "        temp_df = pd.read_html(r.text, header=1, index_col=10)[0]  # User sciper nº as index\n",
    "        temp_df = temp_df[['Civilité', 'Nom Prénom']]  # Keep relevant columns only\n",
    "        temp_df[pedagogic_period] = i + 2007  # Annotate the corresponding year for the pedagogic period\n",
    "        df = pd.concat([df, temp_df])\n",
    "    return df\n",
    "\n",
    "# Load all CS students that did their first and last bachelor semesters\n",
    "starting = build_dataframe('Bachelor semestre 1')\n",
    "ending = build_dataframe('Bachelor semestre 6')"
   ]
  },
  {
   "cell_type": "code",
   "execution_count": 216,
   "metadata": {
    "collapsed": false
   },
   "outputs": [
    {
     "data": {
      "text/html": [
       "<div>\n",
       "<table border=\"1\" class=\"dataframe\">\n",
       "  <thead>\n",
       "    <tr style=\"text-align: right;\">\n",
       "      <th></th>\n",
       "      <th>Civilité</th>\n",
       "      <th>Nom Prénom</th>\n",
       "      <th>Bachelor semestre 1</th>\n",
       "      <th>Bachelor semestre 6</th>\n",
       "    </tr>\n",
       "  </thead>\n",
       "  <tbody>\n",
       "    <tr>\n",
       "      <th>220</th>\n",
       "      <td>Monsieur</td>\n",
       "      <td>Junker Florian Christophe</td>\n",
       "      <td>2011</td>\n",
       "      <td>2014</td>\n",
       "    </tr>\n",
       "    <tr>\n",
       "      <th>25</th>\n",
       "      <td>Monsieur</td>\n",
       "      <td>Lütolf Lukas</td>\n",
       "      <td>2007</td>\n",
       "      <td>2010</td>\n",
       "    </tr>\n",
       "    <tr>\n",
       "      <th>250</th>\n",
       "      <td>Monsieur</td>\n",
       "      <td>Balle Daniel</td>\n",
       "      <td>2012</td>\n",
       "      <td>2015</td>\n",
       "    </tr>\n",
       "    <tr>\n",
       "      <th>179</th>\n",
       "      <td>Monsieur</td>\n",
       "      <td>Schmutz Michaël Steven</td>\n",
       "      <td>2010</td>\n",
       "      <td>2014</td>\n",
       "    </tr>\n",
       "    <tr>\n",
       "      <th>222</th>\n",
       "      <td>Monsieur</td>\n",
       "      <td>Khokhlov Matvey</td>\n",
       "      <td>2011</td>\n",
       "      <td>2015</td>\n",
       "    </tr>\n",
       "    <tr>\n",
       "      <th>235</th>\n",
       "      <td>Monsieur</td>\n",
       "      <td>Roulin Andy</td>\n",
       "      <td>2011</td>\n",
       "      <td>2014</td>\n",
       "    </tr>\n",
       "    <tr>\n",
       "      <th>223</th>\n",
       "      <td>Monsieur</td>\n",
       "      <td>Lauro Raffaele</td>\n",
       "      <td>2011</td>\n",
       "      <td>2014</td>\n",
       "    </tr>\n",
       "    <tr>\n",
       "      <th>393</th>\n",
       "      <td>Monsieur</td>\n",
       "      <td>Rigori Valentin Joseph</td>\n",
       "      <td>2014</td>\n",
       "      <td>2017</td>\n",
       "    </tr>\n",
       "    <tr>\n",
       "      <th>228</th>\n",
       "      <td>Monsieur</td>\n",
       "      <td>Oliveira Andrade Patrick Daniel</td>\n",
       "      <td>2011</td>\n",
       "      <td>2014</td>\n",
       "    </tr>\n",
       "    <tr>\n",
       "      <th>183</th>\n",
       "      <td>Monsieur</td>\n",
       "      <td>Weber Martin Takeya</td>\n",
       "      <td>2010</td>\n",
       "      <td>2015</td>\n",
       "    </tr>\n",
       "  </tbody>\n",
       "</table>\n",
       "</div>"
      ],
      "text/plain": [
       "     Civilité                       Nom Prénom  Bachelor semestre 1  \\\n",
       "220  Monsieur        Junker Florian Christophe                 2011   \n",
       "25   Monsieur                     Lütolf Lukas                 2007   \n",
       "250  Monsieur                     Balle Daniel                 2012   \n",
       "179  Monsieur           Schmutz Michaël Steven                 2010   \n",
       "222  Monsieur                  Khokhlov Matvey                 2011   \n",
       "235  Monsieur                      Roulin Andy                 2011   \n",
       "223  Monsieur                   Lauro Raffaele                 2011   \n",
       "393  Monsieur           Rigori Valentin Joseph                 2014   \n",
       "228  Monsieur  Oliveira Andrade Patrick Daniel                 2011   \n",
       "183  Monsieur              Weber Martin Takeya                 2010   \n",
       "\n",
       "     Bachelor semestre 6  \n",
       "220                 2014  \n",
       "25                  2010  \n",
       "250                 2015  \n",
       "179                 2014  \n",
       "222                 2015  \n",
       "235                 2014  \n",
       "223                 2014  \n",
       "393                 2017  \n",
       "228                 2014  \n",
       "183                 2015  "
      ]
     },
     "execution_count": 216,
     "metadata": {},
     "output_type": "execute_result"
    }
   ],
   "source": [
    "starting = starting[~starting.index.duplicated(keep='first')]  # Ignore repeated first years\n",
    "ending = ending[~ending.index.duplicated(keep='last')]  # Keep last 6th semester only\n",
    "\n",
    "# Merge both dataframes.\n",
    "students = pd.merge(starting, ending, how='inner')\n",
    "# The 6th semester is always in spring (year + 1)\n",
    "students['Bachelor semestre 6'] = students['Bachelor semestre 6'] + 1\n",
    "students.sample(10)"
   ]
  },
  {
   "cell_type": "code",
   "execution_count": 223,
   "metadata": {
    "collapsed": false
   },
   "outputs": [
    {
     "name": "stdout",
     "output_type": "stream",
     "text": [
      "Male (Monsieur): 368\n",
      "Female (Madame): 29\n"
     ]
    },
    {
     "data": {
      "text/html": [
       "<div>\n",
       "<table border=\"1\" class=\"dataframe\">\n",
       "  <thead>\n",
       "    <tr style=\"text-align: right;\">\n",
       "      <th></th>\n",
       "      <th>Delta</th>\n",
       "    </tr>\n",
       "    <tr>\n",
       "      <th>Civilité</th>\n",
       "      <th></th>\n",
       "    </tr>\n",
       "  </thead>\n",
       "  <tbody>\n",
       "    <tr>\n",
       "      <th>Madame</th>\n",
       "      <td>39.724138</td>\n",
       "    </tr>\n",
       "    <tr>\n",
       "      <th>Monsieur</th>\n",
       "      <td>41.771739</td>\n",
       "    </tr>\n",
       "  </tbody>\n",
       "</table>\n",
       "</div>"
      ],
      "text/plain": [
       "              Delta\n",
       "Civilité           \n",
       "Madame    39.724138\n",
       "Monsieur  41.771739"
      ]
     },
     "execution_count": 223,
     "metadata": {},
     "output_type": "execute_result"
    }
   ],
   "source": [
    "students['Delta'] = (students['Bachelor semestre 6'] - students['Bachelor semestre 1']) * 12 # months in a year\n",
    "print('Male (Monsieur):', students[students['Civilité'] == 'Monsieur'].shape[0])\n",
    "print('Female (Madame):', students[students['Civilité'] == 'Madame'].shape[0])\n",
    "students.groupby('Civilité')[['Delta']].mean()"
   ]
  },
  {
   "cell_type": "markdown",
   "metadata": {},
   "source": [
    "Statistical test :\n",
    "As we have only two data sets independent from each other, and there should be no real difference between them regarding the average time spent at EPFL for bachelor students, we choose the Two-sample T-test as a statistical test for our data."
   ]
  },
  {
   "cell_type": "code",
   "execution_count": 224,
   "metadata": {
    "collapsed": false
   },
   "outputs": [
    {
     "data": {
      "text/plain": [
       "Ttest_indResult(statistic=1.5831651359439409, pvalue=0.12191236829650401)"
      ]
     },
     "execution_count": 224,
     "metadata": {},
     "output_type": "execute_result"
    }
   ],
   "source": [
    "stats.ttest_ind(a=students[students['Civilité'] == 'Monsieur'].Delta,\n",
    "               b=students[students['Civilité'] == 'Madame'].Delta, equal_var=False)"
   ]
  },
  {
   "cell_type": "markdown",
   "metadata": {},
   "source": [
    "# 2"
   ]
  },
  {
   "cell_type": "markdown",
   "metadata": {},
   "source": [
    "In this task we compute the time spent by a master student at EPFL so far. Therefore we don't only consider students who finished their master, but also students who are curretly pursuing their master.\n",
    "We consider that every entry corresponding to a semester corresponds to six months spent at EPFL. Therefore, for each master student, we compute the total number of semesters spent at EPFL, then multiply it to have the duration of the stay in months."
   ]
  },
  {
   "cell_type": "code",
   "execution_count": 201,
   "metadata": {
    "collapsed": false
   },
   "outputs": [],
   "source": [
    "#Doing as previous but with master pedagogic periods\n",
    "#Params of master periods\n",
    "master_searched_pedag_periods = {'Master semestre 1', 'Master semestre 2', 'Master semestre 3', 'Projet Master automne', 'Projet Master printemps'}\n",
    "master_pedag_period = {option.string: option['value']\n",
    "                for option in pedag_period_select\n",
    "                if option.string in master_searched_pedag_periods}\n",
    "#print('Master Pedagogic period:', pedag_period)\n",
    "\n",
    "#Redefining build_dataframe with the new columns that we are interested in\n",
    "def build_master_dataframe(pedagogic_period: str) -> pd.DataFrame:\n",
    "    \"\"\"This function takes a list of academic periods (eg: ['2007-2008', '2008-2009', ...])\n",
    "    and a pedagogic period (eg: 'Master semestre 1') and builds a dataframe with all\n",
    "    concerned students.\n",
    "    \"\"\"\n",
    "    df = pd.DataFrame()\n",
    "    for i, academic_period in enumerate(sorted(academic_period_dict.keys())):  # 2007 until 2016\n",
    "        # Request GET parameters\n",
    "        request_params = {**get_parameters,\n",
    "                          'ww_x_PERIODE_ACAD': academic_period_dict.get(academic_period),\n",
    "                          'ww_x_PERIODE_PEDAGO': master_pedag_period.get(pedagogic_period)}\n",
    "        r = requests.get(base_url, request_params)\n",
    "        if('Civilité' in r.text): #check if there is a header i.e. any entries\n",
    "            temp_df = pd.read_html(r.text, header=1, index_col=10)[0]  # User sciper nº as index\n",
    "            temp_df = temp_df[['Nom Prénom', 'Spécialisation']]  # Keep relevant columns only\n",
    "            temp_df[pedagogic_period] = i + 2007  # Annotate the corresponding year for the pedagogic period\n",
    "            df = pd.concat([df, temp_df])\n",
    "    return df\n",
    "\n",
    "# Load all CS students that did their first and last bachelor semesters\n",
    "ma_1 = build_master_dataframe('Master semestre 1')\n",
    "ma_2 = build_master_dataframe('Master semestre 2')\n",
    "ma_3 = build_master_dataframe('Master semestre 3')\n",
    "pdm_1 = build_master_dataframe('Projet Master automne')\n",
    "pdm_2 = build_master_dataframe('Projet Master printemps')"
   ]
  },
  {
   "cell_type": "code",
   "execution_count": 202,
   "metadata": {
    "collapsed": false
   },
   "outputs": [
    {
     "data": {
      "text/html": [
       "<div>\n",
       "<table border=\"1\" class=\"dataframe\">\n",
       "  <thead>\n",
       "    <tr style=\"text-align: right;\">\n",
       "      <th></th>\n",
       "      <th>Nom Prénom</th>\n",
       "      <th>Spécialisation</th>\n",
       "      <th>Master semestre 1</th>\n",
       "    </tr>\n",
       "    <tr>\n",
       "      <th>No Sciper</th>\n",
       "      <th></th>\n",
       "      <th></th>\n",
       "      <th></th>\n",
       "    </tr>\n",
       "  </thead>\n",
       "  <tbody>\n",
       "    <tr>\n",
       "      <th>153066</th>\n",
       "      <td>Aeberhard François-Xavier</td>\n",
       "      <td>NaN</td>\n",
       "      <td>2007</td>\n",
       "    </tr>\n",
       "    <tr>\n",
       "      <th>180027</th>\n",
       "      <td>Agarwal Megha</td>\n",
       "      <td>NaN</td>\n",
       "      <td>2007</td>\n",
       "    </tr>\n",
       "    <tr>\n",
       "      <th>152232</th>\n",
       "      <td>Anagnostaras David</td>\n",
       "      <td>NaN</td>\n",
       "      <td>2007</td>\n",
       "    </tr>\n",
       "    <tr>\n",
       "      <th>177395</th>\n",
       "      <td>Auroux Damien</td>\n",
       "      <td>NaN</td>\n",
       "      <td>2007</td>\n",
       "    </tr>\n",
       "    <tr>\n",
       "      <th>161970</th>\n",
       "      <td>Awalebo Joseph</td>\n",
       "      <td>NaN</td>\n",
       "      <td>2007</td>\n",
       "    </tr>\n",
       "  </tbody>\n",
       "</table>\n",
       "</div>"
      ],
      "text/plain": [
       "                          Nom Prénom Spécialisation  Master semestre 1\n",
       "No Sciper                                                             \n",
       "153066     Aeberhard François-Xavier            NaN               2007\n",
       "180027                 Agarwal Megha            NaN               2007\n",
       "152232            Anagnostaras David            NaN               2007\n",
       "177395                 Auroux Damien            NaN               2007\n",
       "161970                Awalebo Joseph            NaN               2007"
      ]
     },
     "execution_count": 202,
     "metadata": {},
     "output_type": "execute_result"
    }
   ],
   "source": [
    "ma_1.head()"
   ]
  },
  {
   "cell_type": "markdown",
   "metadata": {},
   "source": [
    "Here, we count the number of entries for each student in each semester dataframe, then combine and sum to find the total number of semsters per student."
   ]
  },
  {
   "cell_type": "code",
   "execution_count": 203,
   "metadata": {
    "collapsed": false
   },
   "outputs": [
    {
     "data": {
      "text/html": [
       "<div>\n",
       "<table border=\"1\" class=\"dataframe\">\n",
       "  <thead>\n",
       "    <tr style=\"text-align: right;\">\n",
       "      <th></th>\n",
       "      <th>Total_semesters</th>\n",
       "    </tr>\n",
       "    <tr>\n",
       "      <th>Nom Prénom</th>\n",
       "      <th></th>\n",
       "    </tr>\n",
       "  </thead>\n",
       "  <tbody>\n",
       "    <tr>\n",
       "      <th>Abbadi Hajar</th>\n",
       "      <td>3.0</td>\n",
       "    </tr>\n",
       "    <tr>\n",
       "      <th>Abelenda Diego</th>\n",
       "      <td>4.0</td>\n",
       "    </tr>\n",
       "    <tr>\n",
       "      <th>Abi Akar Nora</th>\n",
       "      <td>3.0</td>\n",
       "    </tr>\n",
       "    <tr>\n",
       "      <th>Aeberhard François-Xavier</th>\n",
       "      <td>6.0</td>\n",
       "    </tr>\n",
       "    <tr>\n",
       "      <th>Aeby Prisca</th>\n",
       "      <td>3.0</td>\n",
       "    </tr>\n",
       "  </tbody>\n",
       "</table>\n",
       "</div>"
      ],
      "text/plain": [
       "                           Total_semesters\n",
       "Nom Prénom                                \n",
       "Abbadi Hajar                           3.0\n",
       "Abelenda Diego                         4.0\n",
       "Abi Akar Nora                          3.0\n",
       "Aeberhard François-Xavier              6.0\n",
       "Aeby Prisca                            3.0"
      ]
     },
     "execution_count": 203,
     "metadata": {},
     "output_type": "execute_result"
    }
   ],
   "source": [
    "# Merge dataframes.\n",
    "\n",
    "ma_1_count = ma_1.groupby('Nom Prénom').count()['Master semestre 1']\n",
    "ma_2_count = ma_2.groupby('Nom Prénom').count()['Master semestre 2']\n",
    "ma_3_count = ma_3.groupby('Nom Prénom').count()['Master semestre 3']\n",
    "pdm_1_count = pdm_1.groupby('Nom Prénom').count()['Projet Master automne']\n",
    "pdm_2_count = pdm_2.groupby('Nom Prénom').count()['Projet Master printemps']\n",
    "\n",
    "#Concatenate data from all semesters\n",
    "students = pd.concat([ma_1_count, ma_2_count, ma_3_count, pdm_1_count, pdm_2_count], axis = 1)\n",
    "\n",
    "#Sum all columns to find the total number of semesters per student\n",
    "students_sem_count = students.sum(axis = 1).to_frame('Total_semesters')\n",
    "students_sem_count.index.name='Nom Prénom'\n",
    "\n",
    "#Drop students who only have one semester entry, as they correspond to students\n",
    "#who are in their first semester as master students at EPFL\n",
    "students_sem_count=students_sem_count[students_sem_count.Total_semesters != 1]\n",
    "\n",
    "students_sem_count.head()"
   ]
  },
  {
   "cell_type": "markdown",
   "metadata": {
    "collapsed": true
   },
   "source": [
    "We then average over all students to find the average number of semesters, and multiply by 6 to find the average number of months spent at EPFL for master students."
   ]
  },
  {
   "cell_type": "code",
   "execution_count": 226,
   "metadata": {
    "collapsed": false
   },
   "outputs": [
    {
     "name": "stdout",
     "output_type": "stream",
     "text": [
      "Total_semesters    20.143939\n",
      "dtype: float64\n"
     ]
    }
   ],
   "source": [
    "population_avg = students_sem_count.mean()*6\n",
    "print(population_avg)"
   ]
  },
  {
   "cell_type": "code",
   "execution_count": 205,
   "metadata": {
    "collapsed": false
   },
   "outputs": [
    {
     "data": {
      "text/html": [
       "<div>\n",
       "<table border=\"1\" class=\"dataframe\">\n",
       "  <thead>\n",
       "    <tr style=\"text-align: right;\">\n",
       "      <th></th>\n",
       "      <th>Spécialisation</th>\n",
       "    </tr>\n",
       "    <tr>\n",
       "      <th>Nom Prénom</th>\n",
       "      <th></th>\n",
       "    </tr>\n",
       "  </thead>\n",
       "  <tbody>\n",
       "    <tr>\n",
       "      <th>Campora Simone</th>\n",
       "      <td>Internet computing</td>\n",
       "    </tr>\n",
       "    <tr>\n",
       "      <th>Hofer Thomas</th>\n",
       "      <td>Foundations of Software</td>\n",
       "    </tr>\n",
       "    <tr>\n",
       "      <th>Kwanga Rodrigue</th>\n",
       "      <td>Biocomputing</td>\n",
       "    </tr>\n",
       "    <tr>\n",
       "      <th>Muriel Hugo Marcelo</th>\n",
       "      <td>Internet computing</td>\n",
       "    </tr>\n",
       "    <tr>\n",
       "      <th>Pakzad Pooya</th>\n",
       "      <td>Internet computing</td>\n",
       "    </tr>\n",
       "  </tbody>\n",
       "</table>\n",
       "</div>"
      ],
      "text/plain": [
       "                              Spécialisation\n",
       "Nom Prénom                                  \n",
       "Campora Simone            Internet computing\n",
       "Hofer Thomas         Foundations of Software\n",
       "Kwanga Rodrigue                 Biocomputing\n",
       "Muriel Hugo Marcelo       Internet computing\n",
       "Pakzad Pooya              Internet computing"
      ]
     },
     "execution_count": 205,
     "metadata": {},
     "output_type": "execute_result"
    }
   ],
   "source": [
    "ma_1_spec = ma_1.drop('Master semestre 1', 1).dropna(0)\n",
    "ma_2_spec = ma_2.drop('Master semestre 2', 1).dropna(0)\n",
    "ma_3_spec = ma_3.drop('Master semestre 3', 1).dropna(0)\n",
    "pdm_1_spec = pdm_1.drop('Projet Master automne', 1).dropna(0)\n",
    "pdm_2_spec = pdm_2.drop('Projet Master printemps', 1).dropna(0)\n",
    "\n",
    "names = ma_1_spec.append(ma_2_spec)\n",
    "names = names.append(ma_3_spec)\n",
    "names = names.append(pdm_1_spec)\n",
    "names = names.append(pdm_2_spec)\n",
    "names.drop_duplicates(inplace=True)\n",
    "names.set_index('Nom Prénom', inplace=True)\n",
    "names.head()"
   ]
  },
  {
   "cell_type": "code",
   "execution_count": 206,
   "metadata": {
    "collapsed": false
   },
   "outputs": [],
   "source": [
    "students_sem_count.reset_index(inplace=True)\n",
    "names.reset_index(inplace=True)"
   ]
  },
  {
   "cell_type": "code",
   "execution_count": 208,
   "metadata": {
    "collapsed": false
   },
   "outputs": [],
   "source": [
    "spec_count = pd.merge(students_sem_count, names, on='Nom Prénom', how='inner')\n",
    "semester_count = spec_count.groupby('Spécialisation').sum()\n",
    "semester_count.reset_index(inplace = True)\n",
    "\n",
    "student_count = spec_count.groupby('Spécialisation').count().drop('Nom Prénom', 1)\n",
    "student_count.columns = ['Total_students']\n",
    "student_count.reset_index(inplace = True)"
   ]
  },
  {
   "cell_type": "code",
   "execution_count": 211,
   "metadata": {
    "collapsed": false
   },
   "outputs": [
    {
     "data": {
      "text/html": [
       "<div>\n",
       "<table border=\"1\" class=\"dataframe\">\n",
       "  <thead>\n",
       "    <tr style=\"text-align: right;\">\n",
       "      <th></th>\n",
       "      <th>Spécialisation</th>\n",
       "      <th>Total_semesters</th>\n",
       "      <th>Total_students</th>\n",
       "    </tr>\n",
       "  </thead>\n",
       "  <tbody>\n",
       "    <tr>\n",
       "      <th>0</th>\n",
       "      <td>Biocomputing</td>\n",
       "      <td>21.0</td>\n",
       "      <td>6</td>\n",
       "    </tr>\n",
       "    <tr>\n",
       "      <th>1</th>\n",
       "      <td>Computer Engineering - SP</td>\n",
       "      <td>76.0</td>\n",
       "      <td>21</td>\n",
       "    </tr>\n",
       "    <tr>\n",
       "      <th>2</th>\n",
       "      <td>Computer Science Theory</td>\n",
       "      <td>3.0</td>\n",
       "      <td>1</td>\n",
       "    </tr>\n",
       "    <tr>\n",
       "      <th>3</th>\n",
       "      <td>Data Analytics</td>\n",
       "      <td>17.0</td>\n",
       "      <td>6</td>\n",
       "    </tr>\n",
       "    <tr>\n",
       "      <th>4</th>\n",
       "      <td>Foundations of Software</td>\n",
       "      <td>249.0</td>\n",
       "      <td>63</td>\n",
       "    </tr>\n",
       "    <tr>\n",
       "      <th>5</th>\n",
       "      <td>Information Security - SP</td>\n",
       "      <td>25.0</td>\n",
       "      <td>7</td>\n",
       "    </tr>\n",
       "    <tr>\n",
       "      <th>6</th>\n",
       "      <td>Internet Information Systems</td>\n",
       "      <td>3.0</td>\n",
       "      <td>1</td>\n",
       "    </tr>\n",
       "    <tr>\n",
       "      <th>7</th>\n",
       "      <td>Internet computing</td>\n",
       "      <td>378.0</td>\n",
       "      <td>100</td>\n",
       "    </tr>\n",
       "    <tr>\n",
       "      <th>8</th>\n",
       "      <td>Service science</td>\n",
       "      <td>19.0</td>\n",
       "      <td>5</td>\n",
       "    </tr>\n",
       "    <tr>\n",
       "      <th>9</th>\n",
       "      <td>Signals, Images and Interfaces</td>\n",
       "      <td>136.0</td>\n",
       "      <td>34</td>\n",
       "    </tr>\n",
       "    <tr>\n",
       "      <th>10</th>\n",
       "      <td>Software Systems</td>\n",
       "      <td>59.0</td>\n",
       "      <td>17</td>\n",
       "    </tr>\n",
       "  </tbody>\n",
       "</table>\n",
       "</div>"
      ],
      "text/plain": [
       "                    Spécialisation  Total_semesters  Total_students\n",
       "0                     Biocomputing             21.0               6\n",
       "1        Computer Engineering - SP             76.0              21\n",
       "2          Computer Science Theory              3.0               1\n",
       "3                   Data Analytics             17.0               6\n",
       "4          Foundations of Software            249.0              63\n",
       "5        Information Security - SP             25.0               7\n",
       "6     Internet Information Systems              3.0               1\n",
       "7               Internet computing            378.0             100\n",
       "8                  Service science             19.0               5\n",
       "9   Signals, Images and Interfaces            136.0              34\n",
       "10                Software Systems             59.0              17"
      ]
     },
     "execution_count": 211,
     "metadata": {},
     "output_type": "execute_result"
    }
   ],
   "source": [
    "data = pd.merge(semester_count, student_count, how = 'outer')\n",
    "data"
   ]
  },
  {
   "cell_type": "code",
   "execution_count": 212,
   "metadata": {
    "collapsed": false
   },
   "outputs": [
    {
     "data": {
      "text/html": [
       "<div>\n",
       "<table border=\"1\" class=\"dataframe\">\n",
       "  <thead>\n",
       "    <tr style=\"text-align: right;\">\n",
       "      <th></th>\n",
       "      <th>Average time</th>\n",
       "    </tr>\n",
       "    <tr>\n",
       "      <th>Spécialisation</th>\n",
       "      <th></th>\n",
       "    </tr>\n",
       "  </thead>\n",
       "  <tbody>\n",
       "    <tr>\n",
       "      <th>Biocomputing</th>\n",
       "      <td>21.000000</td>\n",
       "    </tr>\n",
       "    <tr>\n",
       "      <th>Computer Engineering - SP</th>\n",
       "      <td>21.714286</td>\n",
       "    </tr>\n",
       "    <tr>\n",
       "      <th>Computer Science Theory</th>\n",
       "      <td>18.000000</td>\n",
       "    </tr>\n",
       "    <tr>\n",
       "      <th>Data Analytics</th>\n",
       "      <td>17.000000</td>\n",
       "    </tr>\n",
       "    <tr>\n",
       "      <th>Foundations of Software</th>\n",
       "      <td>23.714286</td>\n",
       "    </tr>\n",
       "    <tr>\n",
       "      <th>Information Security - SP</th>\n",
       "      <td>21.428571</td>\n",
       "    </tr>\n",
       "    <tr>\n",
       "      <th>Internet Information Systems</th>\n",
       "      <td>18.000000</td>\n",
       "    </tr>\n",
       "    <tr>\n",
       "      <th>Internet computing</th>\n",
       "      <td>22.680000</td>\n",
       "    </tr>\n",
       "    <tr>\n",
       "      <th>Service science</th>\n",
       "      <td>22.800000</td>\n",
       "    </tr>\n",
       "    <tr>\n",
       "      <th>Signals, Images and Interfaces</th>\n",
       "      <td>24.000000</td>\n",
       "    </tr>\n",
       "    <tr>\n",
       "      <th>Software Systems</th>\n",
       "      <td>20.823529</td>\n",
       "    </tr>\n",
       "  </tbody>\n",
       "</table>\n",
       "</div>"
      ],
      "text/plain": [
       "                                Average time\n",
       "Spécialisation                              \n",
       "Biocomputing                       21.000000\n",
       "Computer Engineering - SP          21.714286\n",
       "Computer Science Theory            18.000000\n",
       "Data Analytics                     17.000000\n",
       "Foundations of Software            23.714286\n",
       "Information Security - SP          21.428571\n",
       "Internet Information Systems       18.000000\n",
       "Internet computing                 22.680000\n",
       "Service science                    22.800000\n",
       "Signals, Images and Interfaces     24.000000\n",
       "Software Systems                   20.823529"
      ]
     },
     "execution_count": 212,
     "metadata": {},
     "output_type": "execute_result"
    }
   ],
   "source": [
    "average = (data.Total_semesters / data.Total_students)*6\n",
    "spec_avg = pd.DataFrame({\n",
    "        'Spécialisation' : semester_count['Spécialisation'],\n",
    "        'Average time' : average\n",
    "    })\n",
    "spec_avg.set_index('Spécialisation', inplace=True)\n",
    "spec_avg"
   ]
  },
  {
   "cell_type": "markdown",
   "metadata": {},
   "source": [
    "Statistical test :\n",
    "We want to know if the average spent time at EPFL is significantly different for samples with specialization than the general population. For this end, we use a one-sample t-test."
   ]
  },
  {
   "cell_type": "code",
   "execution_count": null,
   "metadata": {
    "collapsed": false
   },
   "outputs": [],
   "source": []
  },
  {
   "cell_type": "code",
   "execution_count": null,
   "metadata": {
    "collapsed": true
   },
   "outputs": [],
   "source": []
  }
 ],
 "metadata": {
  "anaconda-cloud": {},
  "kernelspec": {
   "display_name": "Python [default]",
   "language": "python",
   "name": "python3"
  },
  "language_info": {
   "codemirror_mode": {
    "name": "ipython",
    "version": 3
   },
   "file_extension": ".py",
   "mimetype": "text/x-python",
   "name": "python",
   "nbconvert_exporter": "python",
   "pygments_lexer": "ipython3",
   "version": "3.5.2"
  }
 },
 "nbformat": 4,
 "nbformat_minor": 0
}
